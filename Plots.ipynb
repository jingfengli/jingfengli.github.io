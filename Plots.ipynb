{
 "cells": [
  {
   "cell_type": "markdown",
   "metadata": {},
   "source": [
    "# use the zipcode"
   ]
  },
  {
   "cell_type": "code",
   "execution_count": 238,
   "metadata": {
    "collapsed": true
   },
   "outputs": [],
   "source": [
    "%matplotlib inline\n",
    "import pandas as pd\n",
    "import mpld3\n",
    "mpld3.enable_notebook()\n",
    "%matplotlib inline\n",
    "import matplotlib\n",
    "import seaborn as sns\n",
    "matplotlib.rcParams['savefig.dpi'] = 2 * matplotlib.rcParams['savefig.dpi']"
   ]
  },
  {
   "cell_type": "code",
   "execution_count": 4,
   "metadata": {
    "collapsed": false
   },
   "outputs": [],
   "source": [
    "import pandas as pd"
   ]
  },
  {
   "cell_type": "code",
   "execution_count": 7,
   "metadata": {
    "collapsed": true
   },
   "outputs": [],
   "source": [
    "Maps = pd.read_csv('./zip_code_database.csv')"
   ]
  },
  {
   "cell_type": "code",
   "execution_count": 333,
   "metadata": {
    "collapsed": false
   },
   "outputs": [],
   "source": [
    "import dill\n",
    "with open('../LendingClubPrediction/CleanedUpData.pkl','rb') as in_strm:\n",
    "    df = dill.load(in_strm)\n"
   ]
  },
  {
   "cell_type": "code",
   "execution_count": 448,
   "metadata": {
    "collapsed": true
   },
   "outputs": [],
   "source": [
    "df['int_rate'] = [float(df.int_rate.iloc[i][:-1]) for i in xrange(len(df.int_rate))]"
   ]
  },
  {
   "cell_type": "code",
   "execution_count": 65,
   "metadata": {
    "collapsed": true
   },
   "outputs": [],
   "source": [
    "county = pd.read_csv('../zcta_county_rel_10.txt')"
   ]
  },
  {
   "cell_type": "code",
   "execution_count": 11,
   "metadata": {
    "collapsed": false
   },
   "outputs": [],
   "source": [
    "valide_zip= pd.unique(df.zip_code)"
   ]
  },
  {
   "cell_type": "code",
   "execution_count": 12,
   "metadata": {
    "collapsed": true
   },
   "outputs": [],
   "source": [
    "zip_number =[int(i.replace('xx','')) for i in valide_zip]"
   ]
  },
  {
   "cell_type": "code",
   "execution_count": 26,
   "metadata": {
    "collapsed": false
   },
   "outputs": [],
   "source": [
    "a=(Maps.zip/100).floordiv(1)"
   ]
  },
  {
   "cell_type": "code",
   "execution_count": 41,
   "metadata": {
    "collapsed": false
   },
   "outputs": [],
   "source": [
    "zip_indata = pd.DataFrame({'zip_3':zip_number})\n",
    "\n",
    "Maps['zip_3'] = a"
   ]
  },
  {
   "cell_type": "code",
   "execution_count": 42,
   "metadata": {
    "collapsed": false
   },
   "outputs": [],
   "source": [
    "after_merge=Maps.merge(zip_indata,how='inner',on='zip_3')"
   ]
  },
  {
   "cell_type": "code",
   "execution_count": 46,
   "metadata": {
    "collapsed": false
   },
   "outputs": [],
   "source": [
    "after_merge.to_csv('trial_1.csv')"
   ]
  },
  {
   "cell_type": "code",
   "execution_count": 47,
   "metadata": {
    "collapsed": false
   },
   "outputs": [
    {
     "data": {
      "text/plain": [
       "(40055,)"
      ]
     },
     "execution_count": 47,
     "metadata": {},
     "output_type": "execute_result"
    }
   ],
   "source": [
    "pd.unique(after_merge.zip).shape"
   ]
  },
  {
   "cell_type": "code",
   "execution_count": null,
   "metadata": {
    "collapsed": false
   },
   "outputs": [],
   "source": []
  },
  {
   "cell_type": "code",
   "execution_count": 68,
   "metadata": {
    "collapsed": false
   },
   "outputs": [],
   "source": [
    "county_zip = after_merge.merge(county,how='inner',left_on='zip',right_on='ZCTA5')"
   ]
  },
  {
   "cell_type": "code",
   "execution_count": 72,
   "metadata": {
    "collapsed": true
   },
   "outputs": [],
   "source": [
    "county_zip.iloc[:500].to_csv('county_1.csv')"
   ]
  },
  {
   "cell_type": "code",
   "execution_count": null,
   "metadata": {
    "collapsed": true
   },
   "outputs": [],
   "source": []
  },
  {
   "cell_type": "code",
   "execution_count": null,
   "metadata": {
    "collapsed": true
   },
   "outputs": [],
   "source": []
  },
  {
   "cell_type": "code",
   "execution_count": null,
   "metadata": {
    "collapsed": true
   },
   "outputs": [],
   "source": []
  },
  {
   "cell_type": "code",
   "execution_count": 70,
   "metadata": {
    "collapsed": false
   },
   "outputs": [
    {
     "data": {
      "text/plain": [
       "Index([u'zip', u'type', u'primary_city', u'acceptable_cities',\n",
       "       u'unacceptable_cities', u'state', u'county', u'timezone', u'area_codes',\n",
       "       u'latitude', u'longitude', u'world_region', u'country',\n",
       "       u'decommissioned', u'estimated_population', u'notes', u'zip_3',\n",
       "       u'ZCTA5', u'STATE', u'COUNTY', u'GEOID', u'POPPT', u'HUPT', u'AREAPT',\n",
       "       u'AREALANDPT', u'ZPOP', u'ZHU', u'ZAREA', u'ZAREALAND', u'COPOP',\n",
       "       u'COHU', u'COAREA', u'COAREALAND', u'ZPOPPCT', u'ZHUPCT', u'ZAREAPCT',\n",
       "       u'ZAREALANDPCT', u'COPOPPCT', u'COHUPCT', u'COAREAPCT',\n",
       "       u'COAREALANDPCT'],\n",
       "      dtype='object')"
      ]
     },
     "execution_count": 70,
     "metadata": {},
     "output_type": "execute_result"
    }
   ],
   "source": [
    "county_zip.columns"
   ]
  },
  {
   "cell_type": "code",
   "execution_count": 104,
   "metadata": {
    "collapsed": true
   },
   "outputs": [],
   "source": [
    "from bokeh.sampledata import us_states, us_counties, unemployment\n",
    "from bokeh.plotting import figure, show, output_file, output_notebook\n"
   ]
  },
  {
   "cell_type": "code",
   "execution_count": 105,
   "metadata": {
    "collapsed": false
   },
   "outputs": [],
   "source": [
    "us_states = us_states.data.copy()\n",
    "us_counties = us_counties.data.copy()\n",
    "unemployment = unemployment.data\n",
    "\n",
    "del us_states[\"HI\"]\n",
    "del us_states[\"AK\"]\n",
    "\n",
    "state_xs = [us_states[code][\"lons\"] for code in us_states]\n",
    "state_ys = [us_states[code][\"lats\"] for code in us_states]\n",
    "\n",
    "county_xs=[us_counties[code][\"lons\"] for code in us_counties if us_counties[code][\"state\"] not in [\"ak\", \"hi\", \"pr\", \"gu\", \"vi\", \"mp\", \"as\"]]\n",
    "county_ys=[us_counties[code][\"lats\"] for code in us_counties if us_counties[code][\"state\"] not in [\"ak\", \"hi\", \"pr\", \"gu\", \"vi\", \"mp\", \"as\"]]\n",
    "\n",
    "colors = [\"#F1EEF6\", \"#D4B9DA\", \"#C994C7\", \"#DF65B0\", \"#DD1C77\", \"#980043\"]\n",
    "\n",
    "county_colors = []\n",
    "for county_id in us_counties:\n",
    "    if us_counties[county_id][\"state\"] in [\"ak\", \"hi\", \"pr\", \"gu\", \"vi\", \"mp\", \"as\"]:\n",
    "        continue\n",
    "    try:\n",
    "        rate = unemployment[county_id]\n",
    "        idx = min(int(rate/2), 5)\n",
    "        county_colors.append(colors[idx])\n",
    "    except KeyError:\n",
    "        county_colors.append(\"black\")\n",
    "\n"
   ]
  },
  {
   "cell_type": "code",
   "execution_count": 112,
   "metadata": {
    "collapsed": false
   },
   "outputs": [
    {
     "data": {
      "text/plain": [
       "183"
      ]
     },
     "execution_count": 112,
     "metadata": {},
     "output_type": "execute_result"
    }
   ],
   "source": [
    "len(county_xs[40])"
   ]
  },
  {
   "cell_type": "markdown",
   "metadata": {
    "slideshow": {
     "slide_type": "-"
    }
   },
   "source": [
    "# LET US JUST DO STATES\n",
    "# PLANS:\n",
    "## 1. include a page of exploring different features\n",
    "        1.1 Need to get the map one working. \n",
    "            1.1.1 give options about further filtering based on FICO credit score, and LC  (MAYBE, depends on whether I have time or not.)\n",
    "        1.2 Need to bar graphs about FICO score, home owner, other features too. So the KEY is make it PRETTY\n",
    "## 2. the prediction app\n",
    "        2.1 Need to explain why use the ensemble model, Simple answer is that it works better. LOL. Boosting decision tree seems to work better, though logistic regression seems to be enough. \n",
    "        2.2 Another issue is that if I am going to deploy to Heroku, probably I can only use logistic regression. \n",
    "        2.3 Engineer some other features?? Like the difference between low and high score. Maybe some nlp stuff, not sure this will work. Or the employment rate of the states? Libral vs Conservative? This sorts of thing. I should just factor it in use a mean model. \n",
    "## 3. maybe a profolio, and a trainning program\n",
    "        3.1 This is an afterthought. \n",
    "        3.2 involves with getting the API working"
   ]
  },
  {
   "cell_type": "code",
   "execution_count": null,
   "metadata": {
    "collapsed": true
   },
   "outputs": [],
   "source": []
  },
  {
   "cell_type": "markdown",
   "metadata": {},
   "source": [
    "## some API stuff"
   ]
  },
  {
   "cell_type": "code",
   "execution_count": 699,
   "metadata": {
    "collapsed": false
   },
   "outputs": [],
   "source": [
    "import simplejson\n",
    "from requests_oauthlib import OAuth1\n",
    "import requests\n",
    "with open(\"./lendingclub_secrets.json.nogit\") as fh:\n",
    "    secrets = simplejson.loads(fh.read())\n",
    "\n",
    "# create an auth object\n",
    "auth = OAuth1(\n",
    "    secrets[\"api_key\"],\n",
    "#     secrets[\"api_secret\"],\n",
    "#     secrets[\"access_token\"],\n",
    "#     secrets[\"access_token_secret\"]\n",
    ")\n",
    "\n"
   ]
  },
  {
   "cell_type": "code",
   "execution_count": 700,
   "metadata": {
    "collapsed": false
   },
   "outputs": [],
   "source": [
    "\n",
    "# Query Parameters:\n",
    "# showAll — A non-required Boolean parameter that defines the contents of the result.\n",
    "# showAll= False"
   ]
  },
  {
   "cell_type": "code",
   "execution_count": 701,
   "metadata": {
    "collapsed": false
   },
   "outputs": [
    {
     "name": "stdout",
     "output_type": "stream",
     "text": [
      "<Response [200]>\n"
     ]
    }
   ],
   "source": [
    "params={'showAll' : True}\n",
    "r = requests.get(\"https://api.lendingclub.com/api/investor/v1/loans/listing\", headers={'Authorization':'5Rtb7dWC4Wps2C3VRAn2hBQVERg='},params=params)\n",
    "# r = requests.get(\"https://api.lendingclub.com/api/64233077/v1/loans/listing\", params=params)\n",
    "\n",
    "# \n",
    "print r"
   ]
  },
  {
   "cell_type": "code",
   "execution_count": 704,
   "metadata": {
    "collapsed": false
   },
   "outputs": [
    {
     "name": "stdout",
     "output_type": "stream",
     "text": [
      "174\n"
     ]
    }
   ],
   "source": [
    "loanlist=r.json()\n",
    "print len(loanlist['loans'])"
   ]
  },
  {
   "cell_type": "code",
   "execution_count": 703,
   "metadata": {
    "collapsed": false
   },
   "outputs": [],
   "source": [
    "import dill\n",
    "with open('loanlist_3.pkl','wb') as out_strm:\n",
    "    dill.dump(loanlist,out_strm)"
   ]
  },
  {
   "cell_type": "code",
   "execution_count": 712,
   "metadata": {
    "collapsed": false
   },
   "outputs": [
    {
     "data": {
      "text/plain": [
       "{u'accNowDelinq': 0,\n",
       " u'accOpenPast24Mths': 7,\n",
       " u'acceptD': u'2015-09-22T07:38:48.000-07:00',\n",
       " u'addrState': u'IL',\n",
       " u'addrZip': u'624xx',\n",
       " u'annualInc': 75000.0,\n",
       " u'avgCurBal': 10216,\n",
       " u'bcOpenToBuy': 16025,\n",
       " u'bcUtil': 59.5,\n",
       " u'chargeoffWithin12Mths': 0,\n",
       " u'collections12MthsExMed': 0,\n",
       " u'creditPullD': u'2015-09-17T15:45:46.000-07:00',\n",
       " u'delinq2Yrs': 0,\n",
       " u'delinqAmnt': 0.0,\n",
       " u'desc': None,\n",
       " u'dti': 35.62,\n",
       " u'earliestCrLine': u'1997-06-16T17:00:00.000-07:00',\n",
       " u'empLength': None,\n",
       " u'empTitle': None,\n",
       " u'expD': u'2015-10-06T07:41:16.000-07:00',\n",
       " u'expDefaultRate': 10.0,\n",
       " u'ficoRangeHigh': 714,\n",
       " u'ficoRangeLow': 710,\n",
       " u'fundedAmount': 27475.0,\n",
       " u'grade': u'F',\n",
       " u'homeOwnership': u'MORTGAGE',\n",
       " u'id': 60970675,\n",
       " u'ilsExpD': u'2015-09-27T18:00:00.000-07:00',\n",
       " u'initialListStatus': u'F',\n",
       " u'inqLast6Mths': 1,\n",
       " u'installment': 760.06,\n",
       " u'intRate': 21.99,\n",
       " u'investorCount': None,\n",
       " u'isIncV': u'NOT_VERIFIED',\n",
       " u'listD': u'2015-09-27T18:00:00.000-07:00',\n",
       " u'loanAmount': 27525.0,\n",
       " u'memberId': 65012395,\n",
       " u'moSinOldIlAcct': 181,\n",
       " u'moSinOldRevTlOp': 219,\n",
       " u'moSinRcntRevTlOp': 1,\n",
       " u'moSinRcntTl': 1,\n",
       " u'mortAcc': 5,\n",
       " u'mthsSinceLastDelinq': 31,\n",
       " u'mthsSinceLastMajorDerog': None,\n",
       " u'mthsSinceLastRecord': None,\n",
       " u'mthsSinceRecentBc': 9,\n",
       " u'mthsSinceRecentBcDlq': None,\n",
       " u'mthsSinceRecentInq': 2,\n",
       " u'mthsSinceRecentRevolDelinq': 31,\n",
       " u'numAcctsEver120Ppd': 0,\n",
       " u'numActvBcTl': 4,\n",
       " u'numActvRevTl': 9,\n",
       " u'numBcSats': 6,\n",
       " u'numBcTl': 14,\n",
       " u'numIlTl': 11,\n",
       " u'numOpRevTl': 18,\n",
       " u'numRevAccts': 34,\n",
       " u'numRevTlBalGt0': 9,\n",
       " u'numSats': 23,\n",
       " u'numTl120dpd2m': 0,\n",
       " u'numTl30dpd': 0,\n",
       " u'numTl90gDpd24m': 0,\n",
       " u'numTlOpPast12m': 5,\n",
       " u'openAcc': 23,\n",
       " u'pctTlNvrDlq': 98,\n",
       " u'percentBcGt75': 60.0,\n",
       " u'pubRec': 0,\n",
       " u'pubRecBankruptcies': 0,\n",
       " u'purpose': u'credit_card',\n",
       " u'reviewStatus': u'NOT_APPROVED',\n",
       " u'reviewStatusD': None,\n",
       " u'revolBal': 34923.0,\n",
       " u'revolUtil': 53.7,\n",
       " u'serviceFeeRate': 0.71,\n",
       " u'subGrade': u'F1',\n",
       " u'taxLiens': 0,\n",
       " u'term': 60,\n",
       " u'totCollAmt': 0,\n",
       " u'totCurBal': 204317,\n",
       " u'totHiCredLim': 267778,\n",
       " u'totalAcc': 50,\n",
       " u'totalBalExMort': 78273,\n",
       " u'totalBcLimit': 39600,\n",
       " u'totalIlHighCreditLimit': 58224,\n",
       " u'totalRevHiLim': 65000}"
      ]
     },
     "execution_count": 712,
     "metadata": {},
     "output_type": "execute_result"
    }
   ],
   "source": [
    "loanlist['loans'][0]"
   ]
  },
  {
   "cell_type": "code",
   "execution_count": 185,
   "metadata": {
    "collapsed": false
   },
   "outputs": [
    {
     "data": {
      "text/plain": [
       "348"
      ]
     },
     "execution_count": 185,
     "metadata": {},
     "output_type": "execute_result"
    }
   ],
   "source": [
    "len(loanlist['loans'])"
   ]
  },
  {
   "cell_type": "code",
   "execution_count": 187,
   "metadata": {
    "collapsed": false
   },
   "outputs": [],
   "source": [
    "ids = []\n",
    "for i in range(348):\n",
    "    ids.append(loanlist['loans'][i]['memberId'])"
   ]
  },
  {
   "cell_type": "code",
   "execution_count": 189,
   "metadata": {
    "collapsed": false
   },
   "outputs": [
    {
     "name": "stdout",
     "output_type": "stream",
     "text": [
      "65013825\n"
     ]
    }
   ],
   "source": []
  },
  {
   "cell_type": "code",
   "execution_count": null,
   "metadata": {
    "collapsed": true
   },
   "outputs": [],
   "source": []
  },
  {
   "cell_type": "code",
   "execution_count": null,
   "metadata": {
    "collapsed": true
   },
   "outputs": [],
   "source": []
  },
  {
   "cell_type": "code",
   "execution_count": null,
   "metadata": {
    "collapsed": true
   },
   "outputs": [],
   "source": [
    "# output_file(\"choropleth.html\", title=\"choropleth.py example\")\n",
    "# output_notebook()\n",
    "# TOOLS = (\"hover,save\")\n",
    "# p = figure(title=\"US Unemployment 2009\", toolbar_location=\"left\",tools =TOOLS,\n",
    "#     plot_width=1100, plot_height=700)\n",
    "\n",
    "# p.patches(county_xs, county_ys, fill_color=county_colors, fill_alpha=0.7,\n",
    "#     line_color=\"white\", line_width=0.5)\n",
    "# p.patches(state_xs, state_ys, fill_alpha=0.0,\n",
    "#     line_color=\"#884444\", line_width=2)\n",
    "\n",
    "# show(p)"
   ]
  },
  {
   "cell_type": "code",
   "execution_count": 196,
   "metadata": {
    "collapsed": false
   },
   "outputs": [],
   "source": [
    "import dill\n",
    "with open('loanlist_2.pkl','rb') as in_strm:\n",
    "    loanlist_2 = dill.load(in_strm)\n",
    "with open('loanlist.pkl','rb') as in_strm:\n",
    "    loanlist_1 = dill.load(in_strm)"
   ]
  },
  {
   "cell_type": "code",
   "execution_count": 203,
   "metadata": {
    "collapsed": false
   },
   "outputs": [],
   "source": [
    "ids_1 = [loanlist_1['loans'][i]['id'] for i in range(348)]\n",
    "ids_2 = [loanlist_2['loans'][i]['id'] for i in range(len(loanlist_2['loans']))]\n"
   ]
  },
  {
   "cell_type": "code",
   "execution_count": 209,
   "metadata": {
    "collapsed": false
   },
   "outputs": [],
   "source": [
    "missing =[]\n",
    "for i in ids_1:\n",
    "    if i not in ids_2:\n",
    "        missing.append(i)"
   ]
  },
  {
   "cell_type": "code",
   "execution_count": 210,
   "metadata": {
    "collapsed": false
   },
   "outputs": [
    {
     "data": {
      "text/plain": [
       "61"
      ]
     },
     "execution_count": 210,
     "metadata": {},
     "output_type": "execute_result"
    }
   ],
   "source": [
    "len(missing)"
   ]
  },
  {
   "cell_type": "code",
   "execution_count": 211,
   "metadata": {
    "collapsed": false
   },
   "outputs": [
    {
     "data": {
      "text/plain": [
       "{u'accNowDelinq': 0,\n",
       " u'accOpenPast24Mths': 4,\n",
       " u'acceptD': u'2015-09-21T11:55:30.000-07:00',\n",
       " u'addrState': u'HI',\n",
       " u'addrZip': u'968xx',\n",
       " u'annualInc': 75000.0,\n",
       " u'avgCurBal': 4375,\n",
       " u'bcOpenToBuy': 5541,\n",
       " u'bcUtil': 75.0,\n",
       " u'chargeoffWithin12Mths': 0,\n",
       " u'collections12MthsExMed': 0,\n",
       " u'creditPullD': u'2015-09-18T12:23:22.000-07:00',\n",
       " u'delinq2Yrs': 0,\n",
       " u'delinqAmnt': 0.0,\n",
       " u'desc': None,\n",
       " u'dti': 30.11,\n",
       " u'earliestCrLine': u'1995-11-17T16:00:00.000-08:00',\n",
       " u'empLength': 60,\n",
       " u'empTitle': u'Administrative Officer',\n",
       " u'expD': u'2015-10-05T12:00:54.000-07:00',\n",
       " u'expDefaultRate': 3.67,\n",
       " u'ficoRangeHigh': 664,\n",
       " u'ficoRangeLow': 660,\n",
       " u'fundedAmount': 20875.0,\n",
       " u'grade': u'B',\n",
       " u'homeOwnership': u'RENT',\n",
       " u'id': 60761061,\n",
       " u'ilsExpD': u'2015-09-24T10:00:00.000-07:00',\n",
       " u'initialListStatus': u'F',\n",
       " u'inqLast6Mths': 0,\n",
       " u'installment': 677.52,\n",
       " u'intRate': 9.99,\n",
       " u'investorCount': None,\n",
       " u'isIncV': u'SOURCE_VERIFIED',\n",
       " u'listD': u'2015-09-24T10:00:00.000-07:00',\n",
       " u'loanAmount': 21000.0,\n",
       " u'memberId': 64802803,\n",
       " u'moSinOldIlAcct': 91,\n",
       " u'moSinOldRevTlOp': 238,\n",
       " u'moSinRcntRevTlOp': 10,\n",
       " u'moSinRcntTl': 10,\n",
       " u'mortAcc': 0,\n",
       " u'mthsSinceLastDelinq': None,\n",
       " u'mthsSinceLastMajorDerog': None,\n",
       " u'mthsSinceLastRecord': None,\n",
       " u'mthsSinceRecentBc': 49,\n",
       " u'mthsSinceRecentBcDlq': None,\n",
       " u'mthsSinceRecentInq': 3,\n",
       " u'mthsSinceRecentRevolDelinq': None,\n",
       " u'numAcctsEver120Ppd': 0,\n",
       " u'numActvBcTl': 5,\n",
       " u'numActvRevTl': 11,\n",
       " u'numBcSats': 7,\n",
       " u'numBcTl': 15,\n",
       " u'numIlTl': 5,\n",
       " u'numOpRevTl': 14,\n",
       " u'numRevAccts': 26,\n",
       " u'numRevTlBalGt0': 11,\n",
       " u'numSats': 15,\n",
       " u'numTl120dpd2m': 0,\n",
       " u'numTl30dpd': 0,\n",
       " u'numTl90gDpd24m': 0,\n",
       " u'numTlOpPast12m': 1,\n",
       " u'openAcc': 15,\n",
       " u'pctTlNvrDlq': 100,\n",
       " u'percentBcGt75': 71.4,\n",
       " u'pubRec': 0,\n",
       " u'pubRecBankruptcies': 0,\n",
       " u'purpose': u'debt_consolidation',\n",
       " u'reviewStatus': u'APPROVED',\n",
       " u'reviewStatusD': u'2015-09-21T12:01:20.000-07:00',\n",
       " u'revolBal': 49284.0,\n",
       " u'revolUtil': 75.0,\n",
       " u'serviceFeeRate': 0.85,\n",
       " u'subGrade': u'B3',\n",
       " u'taxLiens': 0,\n",
       " u'term': 36,\n",
       " u'totCollAmt': 0,\n",
       " u'totCurBal': 65619,\n",
       " u'totHiCredLim': 85876,\n",
       " u'totalAcc': 32,\n",
       " u'totalBalExMort': 65619,\n",
       " u'totalBcLimit': 22200,\n",
       " u'totalIlHighCreditLimit': 20176,\n",
       " u'totalRevHiLim': 65700}"
      ]
     },
     "execution_count": 211,
     "metadata": {},
     "output_type": "execute_result"
    }
   ],
   "source": [
    "loanlist_1['loans'][1]"
   ]
  },
  {
   "cell_type": "code",
   "execution_count": 332,
   "metadata": {
    "collapsed": false
   },
   "outputs": [
    {
     "data": {
      "text/plain": [
       "Index([u'group', u'score'], dtype='object')"
      ]
     },
     "execution_count": 332,
     "metadata": {},
     "output_type": "execute_result"
    }
   ],
   "source": [
    "df.columns"
   ]
  },
  {
   "cell_type": "markdown",
   "metadata": {
    "collapsed": true
   },
   "source": [
    "# Build the data used for the figure"
   ]
  },
  {
   "cell_type": "code",
   "execution_count": 334,
   "metadata": {
    "collapsed": false
   },
   "outputs": [],
   "source": [
    "df['paidoff'] = (df.stat== 1)"
   ]
  },
  {
   "cell_type": "code",
   "execution_count": null,
   "metadata": {
    "collapsed": false
   },
   "outputs": [],
   "source": []
  },
  {
   "cell_type": "code",
   "execution_count": 257,
   "metadata": {
    "collapsed": false
   },
   "outputs": [],
   "source": []
  },
  {
   "cell_type": "code",
   "execution_count": 335,
   "metadata": {
    "collapsed": false
   },
   "outputs": [],
   "source": [
    "bystate = pd.DataFrame()\n",
    "bystate['mean_rate'] = df.groupby([u'addr_state']).mean().paidoff\n",
    "bystate['default_rate'] = 1- df.groupby([u'addr_state']).mean().paidoff\n",
    "\n",
    "bystate['count'] = df.groupby([u'addr_state']).count().paidoff\n",
    "bystate['fico_range_high'] = df.groupby([u'addr_state']).mean().fico_range_high\n",
    "bystate['fico_range_high'] = df.groupby([u'addr_state']).mean().fico_range_high\n"
   ]
  },
  {
   "cell_type": "code",
   "execution_count": 336,
   "metadata": {
    "collapsed": false
   },
   "outputs": [],
   "source": [
    "bystate.to_csv('bystate.csv')"
   ]
  },
  {
   "cell_type": "code",
   "execution_count": null,
   "metadata": {
    "collapsed": true
   },
   "outputs": [],
   "source": []
  },
  {
   "cell_type": "code",
   "execution_count": 283,
   "metadata": {
    "collapsed": false
   },
   "outputs": [
    {
     "data": {
      "text/html": [
       "<div>\n",
       "<table border=\"1\" class=\"dataframe\">\n",
       "  <thead>\n",
       "    <tr style=\"text-align: right;\">\n",
       "      <th></th>\n",
       "      <th>id</th>\n",
       "      <th>member_id</th>\n",
       "      <th>loan_amnt</th>\n",
       "      <th>funded_amnt</th>\n",
       "      <th>funded_amnt_inv</th>\n",
       "      <th>term</th>\n",
       "      <th>int_rate</th>\n",
       "      <th>installment</th>\n",
       "      <th>grade</th>\n",
       "      <th>sub_grade</th>\n",
       "      <th>...</th>\n",
       "      <th>last_pymnt_amnt</th>\n",
       "      <th>next_pymnt_d</th>\n",
       "      <th>last_credit_pull_d</th>\n",
       "      <th>last_fico_range_high</th>\n",
       "      <th>last_fico_range_low</th>\n",
       "      <th>collections_12_mths_ex_med</th>\n",
       "      <th>mths_since_last_major_derog</th>\n",
       "      <th>policy_code</th>\n",
       "      <th>stat</th>\n",
       "      <th>paidoff</th>\n",
       "    </tr>\n",
       "  </thead>\n",
       "  <tbody>\n",
       "    <tr>\n",
       "      <th>29843</th>\n",
       "      <td>518047</td>\n",
       "      <td>669591</td>\n",
       "      <td>9600</td>\n",
       "      <td>9600</td>\n",
       "      <td>9600.00</td>\n",
       "      <td>36 months</td>\n",
       "      <td>7.14%</td>\n",
       "      <td>297.04</td>\n",
       "      <td>A</td>\n",
       "      <td>A3</td>\n",
       "      <td>...</td>\n",
       "      <td>320.33</td>\n",
       "      <td>NaN</td>\n",
       "      <td>May-2013</td>\n",
       "      <td>704</td>\n",
       "      <td>700</td>\n",
       "      <td>0</td>\n",
       "      <td>NaN</td>\n",
       "      <td>1</td>\n",
       "      <td>1</td>\n",
       "      <td>True</td>\n",
       "    </tr>\n",
       "    <tr>\n",
       "      <th>39084</th>\n",
       "      <td>281565</td>\n",
       "      <td>281517</td>\n",
       "      <td>7000</td>\n",
       "      <td>7000</td>\n",
       "      <td>3250.00</td>\n",
       "      <td>36 months</td>\n",
       "      <td>11.34%</td>\n",
       "      <td>230.30</td>\n",
       "      <td>C</td>\n",
       "      <td>C2</td>\n",
       "      <td>...</td>\n",
       "      <td>2889.87</td>\n",
       "      <td>NaN</td>\n",
       "      <td>May-2010</td>\n",
       "      <td>519</td>\n",
       "      <td>515</td>\n",
       "      <td>0</td>\n",
       "      <td>NaN</td>\n",
       "      <td>1</td>\n",
       "      <td>1</td>\n",
       "      <td>True</td>\n",
       "    </tr>\n",
       "    <tr>\n",
       "      <th>39312</th>\n",
       "      <td>248498</td>\n",
       "      <td>248495</td>\n",
       "      <td>19500</td>\n",
       "      <td>19500</td>\n",
       "      <td>9232.12</td>\n",
       "      <td>36 months</td>\n",
       "      <td>9.76%</td>\n",
       "      <td>627.02</td>\n",
       "      <td>B</td>\n",
       "      <td>B2</td>\n",
       "      <td>...</td>\n",
       "      <td>635.07</td>\n",
       "      <td>NaN</td>\n",
       "      <td>Feb-2011</td>\n",
       "      <td>799</td>\n",
       "      <td>795</td>\n",
       "      <td>0</td>\n",
       "      <td>NaN</td>\n",
       "      <td>1</td>\n",
       "      <td>1</td>\n",
       "      <td>True</td>\n",
       "    </tr>\n",
       "    <tr>\n",
       "      <th>39423</th>\n",
       "      <td>220023</td>\n",
       "      <td>219944</td>\n",
       "      <td>1850</td>\n",
       "      <td>1850</td>\n",
       "      <td>1575.00</td>\n",
       "      <td>36 months</td>\n",
       "      <td>7.12%</td>\n",
       "      <td>57.23</td>\n",
       "      <td>A</td>\n",
       "      <td>A1</td>\n",
       "      <td>...</td>\n",
       "      <td>3.53</td>\n",
       "      <td>NaN</td>\n",
       "      <td>Aug-2010</td>\n",
       "      <td>754</td>\n",
       "      <td>750</td>\n",
       "      <td>0</td>\n",
       "      <td>NaN</td>\n",
       "      <td>1</td>\n",
       "      <td>1</td>\n",
       "      <td>True</td>\n",
       "    </tr>\n",
       "    <tr>\n",
       "      <th>39425</th>\n",
       "      <td>222488</td>\n",
       "      <td>222393</td>\n",
       "      <td>18500</td>\n",
       "      <td>18500</td>\n",
       "      <td>425.00</td>\n",
       "      <td>36 months</td>\n",
       "      <td>9.51%</td>\n",
       "      <td>592.70</td>\n",
       "      <td>B</td>\n",
       "      <td>B2</td>\n",
       "      <td>...</td>\n",
       "      <td>1.62</td>\n",
       "      <td>NaN</td>\n",
       "      <td>Mar-2010</td>\n",
       "      <td>754</td>\n",
       "      <td>750</td>\n",
       "      <td>0</td>\n",
       "      <td>NaN</td>\n",
       "      <td>1</td>\n",
       "      <td>1</td>\n",
       "      <td>True</td>\n",
       "    </tr>\n",
       "  </tbody>\n",
       "</table>\n",
       "<p>5 rows × 58 columns</p>\n",
       "</div>"
      ],
      "text/plain": [
       "           id  member_id  loan_amnt  funded_amnt  funded_amnt_inv        term  \\\n",
       "29843  518047     669591       9600         9600          9600.00   36 months   \n",
       "39084  281565     281517       7000         7000          3250.00   36 months   \n",
       "39312  248498     248495      19500        19500          9232.12   36 months   \n",
       "39423  220023     219944       1850         1850          1575.00   36 months   \n",
       "39425  222488     222393      18500        18500           425.00   36 months   \n",
       "\n",
       "      int_rate  installment grade sub_grade   ...   last_pymnt_amnt  \\\n",
       "29843    7.14%       297.04     A        A3   ...            320.33   \n",
       "39084   11.34%       230.30     C        C2   ...           2889.87   \n",
       "39312    9.76%       627.02     B        B2   ...            635.07   \n",
       "39423    7.12%        57.23     A        A1   ...              3.53   \n",
       "39425    9.51%       592.70     B        B2   ...              1.62   \n",
       "\n",
       "      next_pymnt_d last_credit_pull_d  last_fico_range_high  \\\n",
       "29843          NaN           May-2013                   704   \n",
       "39084          NaN           May-2010                   519   \n",
       "39312          NaN           Feb-2011                   799   \n",
       "39423          NaN           Aug-2010                   754   \n",
       "39425          NaN           Mar-2010                   754   \n",
       "\n",
       "      last_fico_range_low collections_12_mths_ex_med  \\\n",
       "29843                 700                          0   \n",
       "39084                 515                          0   \n",
       "39312                 795                          0   \n",
       "39423                 750                          0   \n",
       "39425                 750                          0   \n",
       "\n",
       "      mths_since_last_major_derog policy_code stat paidoff  \n",
       "29843                         NaN           1    1    True  \n",
       "39084                         NaN           1    1    True  \n",
       "39312                         NaN           1    1    True  \n",
       "39423                         NaN           1    1    True  \n",
       "39425                         NaN           1    1    True  \n",
       "\n",
       "[5 rows x 58 columns]"
      ]
     },
     "execution_count": 283,
     "metadata": {},
     "output_type": "execute_result"
    }
   ],
   "source": [
    "df[df.addr_state=='IA']"
   ]
  },
  {
   "cell_type": "code",
   "execution_count": null,
   "metadata": {
    "collapsed": true
   },
   "outputs": [],
   "source": []
  },
  {
   "cell_type": "code",
   "execution_count": null,
   "metadata": {
    "collapsed": false
   },
   "outputs": [],
   "source": []
  },
  {
   "cell_type": "code",
   "execution_count": 339,
   "metadata": {
    "collapsed": false
   },
   "outputs": [],
   "source": []
  },
  {
   "cell_type": "code",
   "execution_count": null,
   "metadata": {
    "collapsed": false
   },
   "outputs": [],
   "source": []
  },
  {
   "cell_type": "code",
   "execution_count": null,
   "metadata": {
    "collapsed": true
   },
   "outputs": [],
   "source": [
    "from bokeh.plotting import figure, show, output_file\n"
   ]
  },
  {
   "cell_type": "code",
   "execution_count": null,
   "metadata": {
    "collapsed": false
   },
   "outputs": [],
   "source": []
  },
  {
   "cell_type": "code",
   "execution_count": 382,
   "metadata": {
    "collapsed": false
   },
   "outputs": [],
   "source": []
  },
  {
   "cell_type": "code",
   "execution_count": null,
   "metadata": {
    "collapsed": false
   },
   "outputs": [],
   "source": []
  },
  {
   "cell_type": "markdown",
   "metadata": {},
   "source": [
    "# Loan by grade"
   ]
  },
  {
   "cell_type": "code",
   "execution_count": 478,
   "metadata": {
    "collapsed": false
   },
   "outputs": [],
   "source": [
    "from bokeh.models import HoverTool, ColumnDataSource\n",
    "from collections import OrderedDict\n",
    "\n",
    "\n",
    "# bygrade = pd.DataFrame()\n",
    "# bygrade['mean_rate'] = df.groupby([u'sub_grade']).mean().paidoff\n",
    "# bygrade['default_rate'] = 1-df.groupby([u'sub_grade']).mean().paidoff\n",
    "# bygrade['int_rate'] = df.groupby([u'sub_grade']).mean().int_rate\n",
    "\n",
    "# bygrade['counts'] = df.groupby([u'sub_grade']).count().paidoff\n",
    "\n",
    "bygrade = pd.DataFrame()\n",
    "bygrade['mean_rate'] = df.groupby([u'grade']).mean().paidoff\n",
    "bygrade['default_rate'] = 1-df.groupby([u'grade']).mean().paidoff\n",
    "bygrade['int_rate'] = df.groupby([u'grade']).mean().int_rate\n",
    "\n",
    "bygrade['counts'] = df.groupby([u'grade']).count().paidoff\n",
    "\n",
    "xgrades = [i for i in bygrade.index]\n",
    "pay_grades = bygrade.mean_rate.values*100\n",
    "dft_grades = bygrade.default_rate.values*100"
   ]
  },
  {
   "cell_type": "code",
   "execution_count": 479,
   "metadata": {
    "collapsed": false
   },
   "outputs": [],
   "source": [
    "# xx = df.groupby([u'sub_grade']).mean()"
   ]
  },
  {
   "cell_type": "code",
   "execution_count": null,
   "metadata": {
    "collapsed": false
   },
   "outputs": [],
   "source": []
  },
  {
   "cell_type": "code",
   "execution_count": 698,
   "metadata": {
    "collapsed": false
   },
   "outputs": [],
   "source": [
    "# TOOLS = \"hover,save\"\n",
    "\n",
    "# p = figure(background_fill=\"#EFE8E2\", \n",
    "#            x_range=xgrades,\n",
    "#            x_axis_label='LC grade', y_axis_label=('Pay off rate (%)'),\n",
    "#            y_range = [0, 100],\n",
    "#            title=\"Loan Outcome by LendingClub Grade\",\n",
    "#            tools = TOOLS,\n",
    "#            plot_width=800, \n",
    "#            plot_height=400)\n",
    "\n",
    "# source1 = ColumnDataSource(\n",
    "#     data=dict(pay_grades=pay_grades, dft_grades=dft_grades,int_rate=bygrade['int_rate'].values)\n",
    "# )\n",
    "# source2 = ColumnDataSource(\n",
    "#     data=dict(pay_grades=pay_grades, dft_grades=dft_grades,int_rate=bygrade['int_rate'].values)\n",
    "# )\n",
    "\n",
    "# p.rect(xgrades, pay_grades/2,  0.6, pay_grades,\n",
    "#     fill_color=\"#08c994\", source = source1)\n",
    "# p.rect(xgrades, dft_grades/2 + pay_grades,  0.6,dft_grades,\n",
    "#     fill_color=\"#ff5a00\", source = source2)\n",
    "\n",
    "\n",
    "# hover = p.select(dict(type=HoverTool))\n",
    "# hover.tooltips = OrderedDict([\n",
    "#     ('Grade', \"$x\"),\n",
    "#     ('Payoff rate (%)', '@pay_grades'),\n",
    "#     ('Default rate (%)', '@dft_grades'),\n",
    "#     ('Interest (%)','@int_rate'),\n",
    "# ])\n",
    "\n",
    "# show(p)"
   ]
  },
  {
   "cell_type": "code",
   "execution_count": null,
   "metadata": {
    "collapsed": false
   },
   "outputs": [],
   "source": []
  },
  {
   "cell_type": "markdown",
   "metadata": {},
   "source": [
    "# Loan by credit score"
   ]
  },
  {
   "cell_type": "code",
   "execution_count": null,
   "metadata": {
    "collapsed": false
   },
   "outputs": [],
   "source": []
  },
  {
   "cell_type": "code",
   "execution_count": 497,
   "metadata": {
    "collapsed": false
   },
   "outputs": [],
   "source": [
    "byfico = pd.DataFrame()\n",
    "byfico['mean_rate'] = df.groupby([u'fico_range_high']).mean().paidoff.iloc[2:]\n",
    "byfico['default_rate'] = 1- df.groupby([u'fico_range_high']).mean().paidoff[2:]\n",
    "byfico['count'] = df.groupby([u'fico_range_high']).count().paidoff[2:]"
   ]
  },
  {
   "cell_type": "code",
   "execution_count": null,
   "metadata": {
    "collapsed": true
   },
   "outputs": [],
   "source": []
  },
  {
   "cell_type": "code",
   "execution_count": 696,
   "metadata": {
    "collapsed": false
   },
   "outputs": [],
   "source": [
    "# TOOLS = \"hover,save\"\n",
    "# xfico = [(str(int(byfico.index[i]-4)) + ' - ' +str(int(byfico.index[i]))) for i in xrange(len(byfico.index))]\n",
    "\n",
    "# p = figure(background_fill=\"#EFE8E2\", \n",
    "#            x_axis_label='Pay off rate (%)', y_axis_label='FICO score',\n",
    "#            x_range = [0, 100] , \n",
    "#            y_range = xfico[::-1],\n",
    "#            title=\"Loan Outcome by FICO score\",\n",
    "#            tools = TOOLS,\n",
    "#            plot_width=800, \n",
    "#            plot_height=600)\n",
    "\n",
    "# source1 = ColumnDataSource(\n",
    "#     data=dict(fico_score=xfico, dft_rate=byfico['default_rate'].iloc[::-1]*100,payoff_rate=byfico['mean_rate'].iloc[::-1]*100)\n",
    "# )\n",
    "# source2 = ColumnDataSource(\n",
    "#     data=dict(fico_score=xfico, dft_rate=byfico['default_rate'].iloc[::-1]*100,payoff_rate=byfico['mean_rate'].iloc[::-1]*100)\n",
    "# )\n",
    "\n",
    "# p.rect(byfico['mean_rate'].iloc[::-1]*100/2,  \n",
    "#        xfico[::-1],byfico['mean_rate'].iloc[::-1]*100 ,0.8, \n",
    "#        fill_color=\"#08c994\", source = source1)\n",
    "\n",
    "# p.rect(byfico['default_rate'].iloc[::-1]*100/2 + byfico['mean_rate'].iloc[::-1]*100, \n",
    "#        xfico[::-1], byfico['default_rate'].iloc[::-1]*100, 0.8,\n",
    "#        fill_color=\"#ff5a00\", source = source2)\n",
    "\n",
    "# hover = p.select(dict(type=HoverTool))\n",
    "# hover.tooltips = OrderedDict([\n",
    "#     ('FICO score', \"$y\"),\n",
    "#     ('Payoff rate (%)', '@payoff_rate'),\n",
    "#     ('Default rate (%)', '@dft_rate'),\n",
    "\n",
    "# ])\n",
    "\n",
    "# show(p)"
   ]
  },
  {
   "cell_type": "code",
   "execution_count": 513,
   "metadata": {
    "collapsed": false
   },
   "outputs": [
    {
     "data": {
      "text/plain": [
       "Index([u'id', u'member_id', u'loan_amnt', u'funded_amnt', u'funded_amnt_inv',\n",
       "       u'term', u'int_rate', u'installment', u'grade', u'sub_grade',\n",
       "       u'emp_title', u'emp_length', u'home_ownership', u'annual_inc',\n",
       "       u'verification_status', u'issue_d', u'loan_status', u'pymnt_plan',\n",
       "       u'url', u'desc', u'purpose', u'title', u'zip_code', u'addr_state',\n",
       "       u'dti', u'delinq_2yrs', u'earliest_cr_line', u'fico_range_low',\n",
       "       u'fico_range_high', u'inq_last_6mths', u'mths_since_last_delinq',\n",
       "       u'mths_since_last_record', u'open_acc', u'pub_rec', u'revol_bal',\n",
       "       u'revol_util', u'total_acc', u'initial_list_status', u'out_prncp',\n",
       "       u'out_prncp_inv', u'total_pymnt', u'total_pymnt_inv',\n",
       "       u'total_rec_prncp', u'total_rec_int', u'total_rec_late_fee',\n",
       "       u'recoveries', u'collection_recovery_fee', u'last_pymnt_d',\n",
       "       u'last_pymnt_amnt', u'next_pymnt_d', u'last_credit_pull_d',\n",
       "       u'last_fico_range_high', u'last_fico_range_low',\n",
       "       u'collections_12_mths_ex_med', u'mths_since_last_major_derog',\n",
       "       u'policy_code', u'stat', u'paidoff'],\n",
       "      dtype='object')"
      ]
     },
     "execution_count": 513,
     "metadata": {},
     "output_type": "execute_result"
    }
   ],
   "source": [
    "df.columns"
   ]
  },
  {
   "cell_type": "code",
   "execution_count": 533,
   "metadata": {
    "collapsed": false
   },
   "outputs": [],
   "source": [
    "df['dti_bin'] = np.floor(df.dti/5)*5"
   ]
  },
  {
   "cell_type": "code",
   "execution_count": 543,
   "metadata": {
    "collapsed": false
   },
   "outputs": [
    {
     "data": {
      "text/plain": [
       "array(['10+ years', '< 1 year', '3 years', '9 years', '4 years', '5 years',\n",
       "       '1 year', '6 years', '2 years', '7 years', '8 years', 'n/a'], dtype=object)"
      ]
     },
     "execution_count": 543,
     "metadata": {},
     "output_type": "execute_result"
    }
   ],
   "source": [
    "(pd.unique(df.emp_length))"
   ]
  },
  {
   "cell_type": "code",
   "execution_count": 605,
   "metadata": {
    "collapsed": false
   },
   "outputs": [],
   "source": []
  },
  {
   "cell_type": "code",
   "execution_count": null,
   "metadata": {
    "collapsed": false
   },
   "outputs": [],
   "source": []
  },
  {
   "cell_type": "code",
   "execution_count": null,
   "metadata": {
    "collapsed": false
   },
   "outputs": [],
   "source": []
  },
  {
   "cell_type": "code",
   "execution_count": 607,
   "metadata": {
    "collapsed": false
   },
   "outputs": [],
   "source": [
    "# N = 100\n",
    "# x = np.random.random(size=N) * 100\n",
    "# y = np.random.random(size=N) * 100\n",
    "# radii = np.random.random(size=N) * 1.5\n",
    "# colors = [\"#%02x%02x%02x\" % (r, g, 150) for r, g in zip(np.floor(50+2*x), np.floor(30+2*y))]\n",
    "# colors"
   ]
  },
  {
   "cell_type": "code",
   "execution_count": 680,
   "metadata": {
    "collapsed": false
   },
   "outputs": [
    {
     "data": {
      "text/plain": [
       "9"
      ]
     },
     "execution_count": 680,
     "metadata": {},
     "output_type": "execute_result"
    }
   ],
   "source": []
  },
  {
   "cell_type": "markdown",
   "metadata": {},
   "source": [
    "# Payoff rate by home ownership and emp_length"
   ]
  },
  {
   "cell_type": "code",
   "execution_count": 694,
   "metadata": {
    "collapsed": false
   },
   "outputs": [],
   "source": [
    "# data =  df.groupby(['home_ownership','emp_length']).mean().paidoff\n",
    "\n",
    "# from collections import OrderedDict\n",
    "\n",
    "# import numpy as np\n",
    "\n",
    "# from bokeh.plotting import ColumnDataSource, figure, show, output_file\n",
    "# from bokeh.models import HoverTool\n",
    "\n",
    "# # Read in the data with pandas. Convert the year column to string\n",
    "# home_ownership = ['RENT', 'OWN', 'MORTGAGE']\n",
    "# emp_lenght = [ 'n/a', '< 1 year', '1 year', '3 years', '2 years', '4 years', '5 years',\n",
    "#         '6 years', '7 years', '8 years', '9 years','10+ years']\n",
    "\n",
    "# # colors = [\n",
    "# #     \"#08C994\", \"#26BB81\", \"#45AD6F\", \"#649F5C\", \"#83914A\",\n",
    "# #     \"#A28337\", \"#C17525\", \"#E06712\", \"#FF5A00\"\n",
    "# # ]\n",
    "# colors = [\n",
    "#     \"#75968f\", \"#a5bab7\", \"#c9d9d3\", \"#e2e2e2\", \"#dfccce\",\n",
    "#     \"#ddb7b1\", \"#cc7878\", \"#933b41\", \"#550b1d\"\n",
    "# ]\n",
    "# a=sorted(data.values)[::7]\n",
    "\n",
    "# home = []\n",
    "# emp = []\n",
    "# color = []\n",
    "# rate = []\n",
    "# for y in emp_lenght:\n",
    "#     for m in home_ownership:\n",
    "#         home.append(m)\n",
    "#         emp.append(y)\n",
    "#         rate_by_home_emp = data[m][y]\n",
    "#         rate.append(rate_by_home_emp*100)\n",
    "#         for i in xrange(1,9):\n",
    "#             if rate_by_home_emp > a[i-1] and rate_by_home_emp<= a[i]:\n",
    "#                 ci = 9-i\n",
    "# #         ci = int((rate_by_home_emp - min(data))/(max(data)-min(data))*8.9)\n",
    "        \n",
    "#         color.append(colors[ci])\n",
    "\n",
    "# output_notebook()\n",
    "\n",
    "# TOOLS = \"hover,save\"\n",
    "\n",
    "# p = figure(\n",
    "#     x_axis_label='Employment length (%)', y_axis_label='House Ownership',\n",
    "#     y_range=home_ownership, x_range=emp_lenght ,\n",
    "#     x_axis_location=\"above\", plot_width=800, plot_height=400,\n",
    "#     toolbar_location=\"left\", tools=TOOLS)\n",
    "\n",
    "# source = ColumnDataSource(\n",
    "#     data=dict(home=home, emp=emp,color=color, rate=rate)\n",
    "# )\n",
    "# p.rect(\"emp\", \"home\", 1, 1, source=source,  color=\"color\",line_color=None)\n",
    "\n",
    "# p.grid.grid_line_color = None\n",
    "# p.axis.axis_line_color = None\n",
    "# p.axis.major_tick_line_color = None\n",
    "# p.axis.major_label_text_font_size = \"12pt\"\n",
    "# p.axis.major_label_standoff = 0\n",
    "# p.xaxis.major_label_orientation = np.pi/3\n",
    "\n",
    "# hover = p.select(dict(type=HoverTool))\n",
    "# hover.tooltips = OrderedDict([\n",
    "#     ('Pay off rate (%)', '@rate'),\n",
    "# ])\n",
    "\n",
    "# show(p)      # show the plot"
   ]
  },
  {
   "cell_type": "code",
   "execution_count": null,
   "metadata": {
    "collapsed": false
   },
   "outputs": [],
   "source": []
  },
  {
   "cell_type": "code",
   "execution_count": 590,
   "metadata": {
    "collapsed": false
   },
   "outputs": [
    {
     "data": {
      "text/plain": [
       "99.780742644565407"
      ]
     },
     "execution_count": 590,
     "metadata": {},
     "output_type": "execute_result"
    }
   ],
   "source": [
    "max(np.random.random(size=1000) * 100)\n"
   ]
  },
  {
   "cell_type": "code",
   "execution_count": null,
   "metadata": {
    "collapsed": true
   },
   "outputs": [],
   "source": []
  },
  {
   "cell_type": "code",
   "execution_count": 540,
   "metadata": {
    "collapsed": false
   },
   "outputs": [
    {
     "data": {
      "text/plain": [
       "11"
      ]
     },
     "execution_count": 540,
     "metadata": {},
     "output_type": "execute_result"
    }
   ],
   "source": [
    "354/4/8"
   ]
  },
  {
   "cell_type": "markdown",
   "metadata": {},
   "source": [
    "# pofolio generator"
   ]
  },
  {
   "cell_type": "code",
   "execution_count": null,
   "metadata": {
    "collapsed": true
   },
   "outputs": [],
   "source": []
  },
  {
   "cell_type": "code",
   "execution_count": null,
   "metadata": {
    "collapsed": false
   },
   "outputs": [],
   "source": []
  },
  {
   "cell_type": "code",
   "execution_count": null,
   "metadata": {
    "collapsed": true
   },
   "outputs": [],
   "source": []
  },
  {
   "cell_type": "code",
   "execution_count": null,
   "metadata": {
    "collapsed": false
   },
   "outputs": [],
   "source": []
  },
  {
   "cell_type": "code",
   "execution_count": null,
   "metadata": {
    "collapsed": true
   },
   "outputs": [],
   "source": []
  }
 ],
 "metadata": {
  "kernelspec": {
   "display_name": "Python 2",
   "language": "python",
   "name": "python2"
  },
  "language_info": {
   "codemirror_mode": {
    "name": "ipython",
    "version": 2
   },
   "file_extension": ".py",
   "mimetype": "text/x-python",
   "name": "python",
   "nbconvert_exporter": "python",
   "pygments_lexer": "ipython2",
   "version": "2.7.10"
  }
 },
 "nbformat": 4,
 "nbformat_minor": 0
}
