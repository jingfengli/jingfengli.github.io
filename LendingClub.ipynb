{
 "cells": [
  {
   "cell_type": "markdown",
   "metadata": {},
   "source": [
    "#Overview\n",
    "\n",
    "In this project, I build an algorithm to predict whether a particular in lending club will be a success or a failure. A successful loan is a loan that is fully paid off. A failure loan is a loan either in default state or charged off state, where there is no reasonable expectation that the loan will be paid off. "
   ]
  },
  {
   "cell_type": "code",
   "execution_count": 1,
   "metadata": {
    "collapsed": false
   },
   "outputs": [],
   "source": [
    "# Load all the data \n",
    "import pandas as pd\n",
    "from sklearn.svm import SVR\n",
    "from sklearn.ensemble import RandomForestClassifier\n",
    "from sklearn import preprocessing\n",
    "from sklearn.feature_extraction import DictVectorizer"
   ]
  },
  {
   "cell_type": "code",
   "execution_count": 2,
   "metadata": {
    "collapsed": false
   },
   "outputs": [],
   "source": [
    "%matplotlib inline\n",
    "import mpld3\n",
    "mpld3.enable_notebook()"
   ]
  },
  {
   "cell_type": "code",
   "execution_count": 3,
   "metadata": {
    "collapsed": true
   },
   "outputs": [],
   "source": [
    "%matplotlib inline\n",
    "import matplotlib\n",
    "import seaborn as sns\n",
    "matplotlib.rcParams['savefig.dpi'] = 2 * matplotlib.rcParams['savefig.dpi']"
   ]
  },
  {
   "cell_type": "code",
   "execution_count": 4,
   "metadata": {
    "collapsed": false
   },
   "outputs": [
    {
     "name": "stderr",
     "output_type": "stream",
     "text": [
      "/Users/jingfengli/anaconda/lib/python2.7/site-packages/pandas/io/parsers.py:1170: DtypeWarning: Columns (0) have mixed types. Specify dtype option on import or set low_memory=False.\n",
      "  data = self._reader.read(nrows)\n",
      "/Users/jingfengli/anaconda/lib/python2.7/site-packages/pandas/io/parsers.py:1170: DtypeWarning: Columns (0,19) have mixed types. Specify dtype option on import or set low_memory=False.\n",
      "  data = self._reader.read(nrows)\n"
     ]
    }
   ],
   "source": [
    "df = pd.read_csv('/Volumes/mac/Work/JobHunt/Incubator/ipynb/LoanStats3a_securev1.csv',skiprows=1)\n",
    "dfb = pd.read_csv('/Volumes/mac/Work/JobHunt/Incubator/ipynb/LoanStats3b_securev1.csv',skiprows=1)\n",
    "dfc = pd.read_csv('/Volumes/mac/Work/JobHunt/Incubator/ipynb/LoanStats3c_securev1.csv',skiprows=1)\n",
    "dfd = pd.read_csv('/Volumes/mac/Work/JobHunt/Incubator/ipynb/LoanStats3d_securev1.csv',skiprows=1)"
   ]
  },
  {
   "cell_type": "code",
   "execution_count": 5,
   "metadata": {
    "collapsed": false
   },
   "outputs": [
    {
     "name": "stdout",
     "output_type": "stream",
     "text": [
      "(646398, 56)\n"
     ]
    }
   ],
   "source": [
    "totdf = df\n",
    "totdf = df.append(dfb)\n",
    "totdf = totdf.append(dfc)\n",
    "totdf = totdf.append(dfd)\n",
    "print totdf.shape"
   ]
  },
  {
   "cell_type": "code",
   "execution_count": 6,
   "metadata": {
    "collapsed": false
   },
   "outputs": [],
   "source": [
    "import numpy as np"
   ]
  },
  {
   "cell_type": "markdown",
   "metadata": {},
   "source": [
    "##To deal with the abnormality of the input data, for instance, to deal with the placeholders"
   ]
  },
  {
   "cell_type": "code",
   "execution_count": 7,
   "metadata": {
    "collapsed": false
   },
   "outputs": [
    {
     "name": "stderr",
     "output_type": "stream",
     "text": [
      "/Users/jingfengli/anaconda/lib/python2.7/site-packages/IPython/kernel/__main__.py:9: SettingWithCopyWarning: \n",
      "A value is trying to be set on a copy of a slice from a DataFrame\n",
      "\n",
      "See the the caveats in the documentation: http://pandas.pydata.org/pandas-docs/stable/indexing.html#indexing-view-versus-copy\n",
      "/Users/jingfengli/anaconda/lib/python2.7/site-packages/IPython/kernel/__main__.py:12: SettingWithCopyWarning: \n",
      "A value is trying to be set on a copy of a slice from a DataFrame\n",
      "\n",
      "See the the caveats in the documentation: http://pandas.pydata.org/pandas-docs/stable/indexing.html#indexing-view-versus-copy\n",
      "/Users/jingfengli/anaconda/lib/python2.7/site-packages/IPython/kernel/__main__.py:15: SettingWithCopyWarning: \n",
      "A value is trying to be set on a copy of a slice from a DataFrame\n",
      "\n",
      "See the the caveats in the documentation: http://pandas.pydata.org/pandas-docs/stable/indexing.html#indexing-view-versus-copy\n"
     ]
    }
   ],
   "source": [
    "# success: 1, failure: -1, others: 0, questionable: 0.5\n",
    "totdf['stat'] = pd.Series(np.zeros(np.shape(totdf['id'])))\n",
    "\n",
    "success = ['Fully Paid']\n",
    "failure = ['Charged Off','Default']\n",
    "question = ['In Grace Period','Late (16-30 days)','Late (31-120 days)']\n",
    "\n",
    "for i in success:\n",
    "    totdf.stat[totdf.loan_status == i] = 1\n",
    "\n",
    "for i in failure:\n",
    "    totdf.stat[totdf.loan_status == i] = -1\n",
    "\n",
    "for i in question:\n",
    "    totdf.stat[totdf.loan_status == i] = 0.5\n",
    "\n",
    "# ONLY look at the data for failure and success, no questionable or other type\n",
    "CleanUpRecord = totdf.loc[(totdf.stat==1)|(totdf.stat==-1)]\n",
    "df = CleanUpRecord"
   ]
  },
  {
   "cell_type": "code",
   "execution_count": 8,
   "metadata": {
    "collapsed": false
   },
   "outputs": [
    {
     "name": "stdout",
     "output_type": "stream",
     "text": [
      "Failure / (Success + Failure)\n",
      "0.178621674682\n"
     ]
    }
   ],
   "source": [
    "print 'Failure / (Success + Failure)'\n",
    "print (totdf.stat[totdf.stat == -1]).count()*1.0/((totdf.stat[totdf.stat == 1]).count() + (totdf.stat[totdf.stat == -1]).count())"
   ]
  },
  {
   "cell_type": "code",
   "execution_count": null,
   "metadata": {
    "collapsed": true
   },
   "outputs": [],
   "source": []
  },
  {
   "cell_type": "markdown",
   "metadata": {},
   "source": [
    "# Distribution of loans from Lending Club"
   ]
  },
  {
   "cell_type": "code",
   "execution_count": 9,
   "metadata": {
    "collapsed": false
   },
   "outputs": [
    {
     "data": {
      "text/plain": [
       "Index([u'id', u'member_id', u'loan_amnt', u'funded_amnt', u'funded_amnt_inv',\n",
       "       u'term', u'int_rate', u'installment', u'grade', u'sub_grade',\n",
       "       u'emp_title', u'emp_length', u'home_ownership', u'annual_inc',\n",
       "       u'verification_status', u'issue_d', u'loan_status', u'pymnt_plan',\n",
       "       u'url', u'desc', u'purpose', u'title', u'zip_code', u'addr_state',\n",
       "       u'dti', u'delinq_2yrs', u'earliest_cr_line', u'fico_range_low',\n",
       "       u'fico_range_high', u'inq_last_6mths', u'mths_since_last_delinq',\n",
       "       u'mths_since_last_record', u'open_acc', u'pub_rec', u'revol_bal',\n",
       "       u'revol_util', u'total_acc', u'initial_list_status', u'out_prncp',\n",
       "       u'out_prncp_inv', u'total_pymnt', u'total_pymnt_inv',\n",
       "       u'total_rec_prncp', u'total_rec_int', u'total_rec_late_fee',\n",
       "       u'recoveries', u'collection_recovery_fee', u'last_pymnt_d',\n",
       "       u'last_pymnt_amnt', u'next_pymnt_d', u'last_credit_pull_d',\n",
       "       u'last_fico_range_high', u'last_fico_range_low',\n",
       "       u'collections_12_mths_ex_med', u'mths_since_last_major_derog',\n",
       "       u'policy_code', u'stat'],\n",
       "      dtype='object')"
      ]
     },
     "execution_count": 9,
     "metadata": {},
     "output_type": "execute_result"
    }
   ],
   "source": [
    "df.columns"
   ]
  },
  {
   "cell_type": "markdown",
   "metadata": {
    "collapsed": false
   },
   "source": [
    "# There is two FICO info, WHICH ONE TO USE?!!!\n",
    "Use the one did not marked with last, because that is the one that is av ailabel to the user.\n"
   ]
  },
  {
   "cell_type": "code",
   "execution_count": 10,
   "metadata": {
    "collapsed": false
   },
   "outputs": [],
   "source": [
    "# # There is two FICO info, WHICH ONE TO USE?!!!\n",
    "# # Let us explore what is about\n",
    "# MisMatch = []\n",
    "# for i in xrange(len(df.url)):\n",
    "#     if not df.last_fico_range_high.iloc[i] == df.fico_range_high.iloc[i]:\n",
    "#         MisMatch.append(i)"
   ]
  },
  {
   "cell_type": "code",
   "execution_count": 11,
   "metadata": {
    "collapsed": false
   },
   "outputs": [],
   "source": [
    "relevant = [ 'annual_inc',\n",
    "             'dti', \n",
    "             'emp_length',\n",
    "             'fico_range_high',\n",
    "             'fico_range_low',\n",
    "             'home_ownership',\n",
    "             'loan_amnt',\n",
    "             'open_acc',\n",
    "             'policy_code',\n",
    "             'pub_rec',\n",
    "             'sub_grade',\n",
    "             'term',\n",
    "             'total_acc',\n",
    "#              'last_credit_pull_d',\n",
    "# #              'last_fico_range_high',\n",
    "#              'last_fico_range_low',\n",
    "#             'earliest_cr_line',\n",
    "#             'purpose',\n",
    "#              'funded_amnt',\n",
    "#              'grade',\n",
    "            ]\n",
    "\n",
    "X = df[relevant]\n",
    "y = df['stat']\n",
    "X_y = df[relevant +['stat']]\n",
    "\n",
    "## reweight the y to deal with the imbalance \n",
    "# Reweighting does not seem to work now. \n",
    "# let me just resample\n",
    "# y_1 = len(y[y== 1])\n",
    "# y_0 = len(y[y== -1])\n",
    "# print pd.unique(y)\n",
    "# y[y==-1] = y_1\n",
    "# y[y== 1] = y_0\n",
    "# print pd.unique(y)\n"
   ]
  },
  {
   "cell_type": "code",
   "execution_count": 344,
   "metadata": {
    "collapsed": false
   },
   "outputs": [],
   "source": [
    "relevant = [ 'annual_inc',\n",
    "             'dti', \n",
    "             'emp_length',\n",
    "#              'fico_range_high',\n",
    "#              'fico_range_low',\n",
    "             'home_ownership',\n",
    "             'loan_amnt',\n",
    "             'open_acc',\n",
    "             'policy_code',\n",
    "             'pub_rec',\n",
    "             'sub_grade',\n",
    "             'term',\n",
    "             'total_acc',\n",
    "#              'last_credit_pull_d',\n",
    "             'last_fico_range_high',\n",
    "             'last_fico_range_low',\n",
    "#             'earliest_cr_line',\n",
    "#             'purpose',\n",
    "#              'funded_amnt',\n",
    "#              'grade',\n",
    "            ]\n",
    "\n",
    "X_cheat = df[relevant]\n",
    "# y = df['stat']\n",
    "# X_y = df[relevant +['stat']]\n",
    "\n",
    "## reweight the y to deal with the imbalance \n",
    "# Reweighting does not seem to work now. \n",
    "# let me just resample\n",
    "# y_1 = len(y[y== 1])\n",
    "# y_0 = len(y[y== -1])\n",
    "# print pd.unique(y)\n",
    "# y[y==-1] = y_1\n",
    "# y[y== 1] = y_0\n",
    "# print pd.unique(y)\n"
   ]
  },
  {
   "cell_type": "code",
   "execution_count": 345,
   "metadata": {
    "collapsed": false
   },
   "outputs": [
    {
     "ename": "AttributeError",
     "evalue": "'RandomForestClassifier' object has no attribute 'predict_prob'",
     "output_type": "error",
     "traceback": [
      "\u001b[0;31m---------------------------------------------------------------------------\u001b[0m",
      "\u001b[0;31mAttributeError\u001b[0m                            Traceback (most recent call last)",
      "\u001b[0;32m<ipython-input-345-98e36bbdb196>\u001b[0m in \u001b[0;36m<module>\u001b[0;34m()\u001b[0m\n\u001b[1;32m      7\u001b[0m \u001b[0mRFfit_cheat\u001b[0m\u001b[0;34m.\u001b[0m\u001b[0mfit\u001b[0m\u001b[0;34m(\u001b[0m\u001b[0mX_vect_cheat\u001b[0m\u001b[0;34m,\u001b[0m\u001b[0my\u001b[0m\u001b[0;34m)\u001b[0m\u001b[0;34m\u001b[0m\u001b[0m\n\u001b[1;32m      8\u001b[0m \u001b[0;34m\u001b[0m\u001b[0m\n\u001b[0;32m----> 9\u001b[0;31m \u001b[0my_prob_cheat\u001b[0m\u001b[0;34m=\u001b[0m\u001b[0mRFfit_cheat\u001b[0m\u001b[0;34m.\u001b[0m\u001b[0mpredict_prob\u001b[0m\u001b[0;34m(\u001b[0m\u001b[0mX_vect_cheat\u001b[0m\u001b[0;34m)\u001b[0m\u001b[0;34m\u001b[0m\u001b[0m\n\u001b[0m",
      "\u001b[0;31mAttributeError\u001b[0m: 'RandomForestClassifier' object has no attribute 'predict_prob'"
     ]
    }
   ],
   "source": [
    "List2DictT = List2Dict_Transformer(str_keys=['home_ownership'])\n",
    "X_trans_cheat = List2DictT.fit_transform(X_cheat)\n",
    "DictVectorT = DictVectorizer(sparse=False)\n",
    "X_vect_cheat = DictVectorT.fit_transform(X_trans_cheat)\n",
    "\n",
    "RFfit_cheat =RandomForestClassifier(n_estimators=300)\n",
    "RFfit_cheat.fit(X_vect_cheat,y)\n",
    "\n",
    "y_prob_cheat=RFfit_cheat.predict_prob(X_vect_cheat)"
   ]
  },
  {
   "cell_type": "code",
   "execution_count": null,
   "metadata": {
    "collapsed": true
   },
   "outputs": [],
   "source": []
  },
  {
   "cell_type": "code",
   "execution_count": null,
   "metadata": {
    "collapsed": true
   },
   "outputs": [],
   "source": []
  },
  {
   "cell_type": "code",
   "execution_count": null,
   "metadata": {
    "collapsed": true
   },
   "outputs": [],
   "source": []
  },
  {
   "cell_type": "code",
   "execution_count": 12,
   "metadata": {
    "collapsed": false
   },
   "outputs": [],
   "source": [
    "\n",
    "############################\n",
    "## Create otholgonal datasets\n",
    "\n",
    "def rebalanceXy(X,y):\n",
    "    # permute the data, just in case it is order:\n",
    "    import numpy as np\n",
    "    y = np.array(y)\n",
    "    X = np.array(X)\n",
    "    perm = np.random.permutation(len(y))\n",
    "    X = X[perm]\n",
    "    y = y[perm]\n",
    "    # determine which one is not balanced\n",
    "    y_uniq = np.unique(y)\n",
    "    if len(y[y==y_uniq[0]]) < len(y)/2:\n",
    "        y_less,y_more = y_uniq[0], y_uniq[1]\n",
    "    else:\n",
    "        y_less,y_more = y_uniq[1], y_uniq[0]\n",
    "    \n",
    "    n_less = len(y[y==y_less])\n",
    "    n_more = len(y[y==y_more])\n",
    "    # rebalance\n",
    "    # The idea is to select all the y_less data, but not all the y_more data. \n",
    "    \n",
    "    yy_less = y[y==y_less]\n",
    "    XX_less = X[y==y_less]\n",
    "    \n",
    "    yy_more = y[y==y_more]\n",
    "    XX_more = X[y==y_more]\n",
    "    \n",
    "    XX_reblance = []\n",
    "    yy_reblance = []\n",
    "    Xy_reblance = []\n",
    "    for i in xrange(n_more/n_less + 1):\n",
    "        St = i*n_less\n",
    "        Ed = (i+1)*n_less\n",
    "        if Ed <= n_more:            \n",
    "            XX_tmp = np.append(XX_more[St:Ed],XX_less,0)\n",
    "            yy_tmp = np.append(yy_more[St:Ed],yy_less,0)\n",
    "            perm = np.random.permutation(n_less*2)\n",
    "            Xy_reblance.append([XX_tmp[perm], yy_tmp[perm]])\n",
    "        else:\n",
    "            Diff = np.random.random_integers(0,n_more-1,Ed-n_more)\n",
    "            np.append(XX_more[St:Ed], XX_more[Diff],0)\n",
    "            \n",
    "            XX_tmp = np.append(np.append(XX_more[St:Ed], XX_more[Diff],0), XX_less,0)\n",
    "            yy_tmp = np.append(np.append(yy_more[St:Ed], yy_more[Diff],0), yy_less,0)\n",
    "            perm = np.random.permutation(n_less*2)\n",
    "            Xy_reblance.append([XX_tmp[perm], yy_tmp[perm]])\n",
    "        \n",
    "    \n",
    "    return Xy_reblance\n",
    "\n",
    "\n",
    "    \n",
    "\n",
    "\n",
    "# split into train and test datasets\n",
    "# from sklearn.cross_validation import train_test_split\n",
    "# X_train, X_test, y_train, y_test = train_test_split(X, y, test_size=0.33)\n"
   ]
  },
  {
   "cell_type": "code",
   "execution_count": null,
   "metadata": {
    "collapsed": false
   },
   "outputs": [],
   "source": [
    "\n"
   ]
  },
  {
   "cell_type": "code",
   "execution_count": 16,
   "metadata": {
    "collapsed": false
   },
   "outputs": [
    {
     "data": {
      "text/plain": [
       "33391"
      ]
     },
     "execution_count": 16,
     "metadata": {},
     "output_type": "execute_result"
    }
   ],
   "source": [
    "len(y[y==-1])"
   ]
  },
  {
   "cell_type": "code",
   "execution_count": 17,
   "metadata": {
    "collapsed": false
   },
   "outputs": [],
   "source": [
    "from sklearn.base import BaseEstimator,RegressorMixin,TransformerMixin\n",
    "class List2Dict_Transformer(BaseEstimator,TransformerMixin):\n",
    "    '''\n",
    "    Expects a data-frame object. \n",
    "    '''\n",
    "    def __init__(self, str_keys=[]):\n",
    "        self.str_keys = str_keys\n",
    "    \n",
    "    def fit(self,X,y=None):\n",
    "        return self\n",
    "    \n",
    "    def transform(self,X):\n",
    "        grademap = {'A':10,\"B\":20,\"C\":30,\"D\":40,\"E\":50,\"F\":60,\"G\":70,\"H\":80}\n",
    "        X_dict = []\n",
    "        X_keys = X.columns\n",
    "        for i in xrange(len(X)):\n",
    "            x_dict = {}\n",
    "            for key in X_keys:\n",
    "                if key in self.str_keys:\n",
    "                    x_dict[key + '_' + X[key].iloc[i]] = 1\n",
    "                elif key == u'emp_length':\n",
    "                    if X[key].iloc[i][0] == 'n':\n",
    "                        x_dict[key] = -1\n",
    "                    elif X[key].iloc[i][0] == '<':\n",
    "                        x_dict[key] = 0\n",
    "                    else:\n",
    "                        x_dict[key] = int(X[key].iloc[i][:2])\n",
    "                elif key == 'sub_grade':\n",
    "#                     print X[key].iloc[i][0]\n",
    "                    base = grademap[X[key].iloc[i][0]]\n",
    "                    x_dict[key] = base + int(X[key].iloc[i][1])\n",
    "                elif key == 'term':\n",
    "                    x_dict[key] = int(X[key].iloc[i][:3])\n",
    "                else:\n",
    "                    x_dict[key] = X[key].iloc[i]\n",
    "            X_dict.append(x_dict)\n",
    "        return X_dict\n"
   ]
  },
  {
   "cell_type": "code",
   "execution_count": 18,
   "metadata": {
    "collapsed": false
   },
   "outputs": [],
   "source": [
    "List2DictT = List2Dict_Transformer(str_keys=['home_ownership'])\n",
    "X_trans = List2DictT.fit_transform(X)\n",
    "DictVectorT = DictVectorizer(sparse=False)\n",
    "X_vect = DictVectorT.fit_transform(X_trans)"
   ]
  },
  {
   "cell_type": "code",
   "execution_count": 19,
   "metadata": {
    "collapsed": true
   },
   "outputs": [],
   "source": [
    "import dill\n",
    "with open('./X_vect.pkl','wb') as out_strm:\n",
    "    dill.dump(X_vect,out_strm)\n"
   ]
  },
  {
   "cell_type": "code",
   "execution_count": 145,
   "metadata": {
    "collapsed": false
   },
   "outputs": [],
   "source": [
    "# Save the fit\n",
    "# import dill\n",
    "# with open('./List2DictT.pkl','wb') as out_strm:\n",
    "#     dill.dump(List2DictT,out_strm)\n",
    "# with open('./DictVectorT.pkl','wb') as out_strm:\n",
    "#     dill.dump(DictVectorT,out_strm)\n",
    "# with open('./RFfit.pkl','wb') as out_strm:\n",
    "#     dill.dump(RFfit,out_strm)\n"
   ]
  },
  {
   "cell_type": "code",
   "execution_count": 21,
   "metadata": {
    "collapsed": false
   },
   "outputs": [],
   "source": [
    "from sklearn.cross_validation import train_test_split\n",
    "X_train, X_test, y_train, y_test = train_test_split(X_vect, y, test_size=0.33)\n",
    "Xy_train_bal = rebalanceXy(X_train,y_train)"
   ]
  },
  {
   "cell_type": "code",
   "execution_count": 337,
   "metadata": {
    "collapsed": false
   },
   "outputs": [
    {
     "data": {
      "text/plain": [
       "44596"
      ]
     },
     "execution_count": 337,
     "metadata": {},
     "output_type": "execute_result"
    }
   ],
   "source": [
    "len(Xy_train_bal[0][1])"
   ]
  },
  {
   "cell_type": "code",
   "execution_count": 181,
   "metadata": {
    "collapsed": false
   },
   "outputs": [
    {
     "data": {
      "text/plain": [
       "array([[  2.40000000e+04,   2.76500000e+01,   1.00000000e+01, ...,\n",
       "          2.20000000e+01,   3.60000000e+01,   9.00000000e+00],\n",
       "       [  3.00000000e+04,   1.00000000e+00,   0.00000000e+00, ...,\n",
       "          3.40000000e+01,   6.00000000e+01,   4.00000000e+00],\n",
       "       [  1.22520000e+04,   8.72000000e+00,   1.00000000e+01, ...,\n",
       "          3.50000000e+01,   3.60000000e+01,   1.00000000e+01],\n",
       "       ..., \n",
       "       [  6.30780000e+04,   3.17000000e+01,   1.00000000e+01, ...,\n",
       "          4.20000000e+01,   6.00000000e+01,   2.80000000e+01],\n",
       "       [  5.40000000e+04,   1.32200000e+01,   0.00000000e+00, ...,\n",
       "          1.10000000e+01,   3.60000000e+01,   2.10000000e+01],\n",
       "       [  5.00000000e+04,   1.26300000e+01,   1.00000000e+01, ...,\n",
       "          2.10000000e+01,   3.60000000e+01,   3.00000000e+01]])"
      ]
     },
     "execution_count": 181,
     "metadata": {},
     "output_type": "execute_result"
    }
   ],
   "source": []
  },
  {
   "cell_type": "code",
   "execution_count": 27,
   "metadata": {
    "collapsed": false
   },
   "outputs": [],
   "source": [
    "from sklearn.ensemble import GradientBoostingClassifier,RandomForestClassifier\n",
    "from sklearn.linear_model import LogisticRegression\n",
    "\n",
    "TotRFMOD = []\n",
    "TotGBGMOD = []\n",
    "TotLGRMOD = []\n",
    "for i in xrange(len(Xy_train_bal)):\n",
    "    XX_bal = Xy_train_bal[i][0]\n",
    "    yy_bal = Xy_train_bal[i][1]\n",
    "\n",
    "    RFfit =RandomForestClassifier(n_estimators=300)\n",
    "    RFfit.fit(XX_bal,yy_bal)\n",
    "    TotRFMOD.append(RFfit)\n",
    "    \n",
    "    clf=GradientBoostingClassifier(n_estimators=1000,max_depth=5,\n",
    "                               learning_rate=0.05,max_features='sqrt')\n",
    "    clf.fit(XX_bal,yy_bal)\n",
    "    TotGBGMOD.append(clf)\n",
    "    \n",
    "    clf2=LogisticRegression()\n",
    "    clf2.fit(XX_bal,yy_bal)\n",
    "    TotLGRMOD.append(clf2)\n",
    "    \n",
    " "
   ]
  },
  {
   "cell_type": "code",
   "execution_count": 28,
   "metadata": {
    "collapsed": true
   },
   "outputs": [],
   "source": [
    "TotModes = TotRFMOD + TotGBGMOD + TotLGRMOD\n",
    "\n",
    "import dill\n",
    "with open('TotModes,pkl','wb') as out_strm:\n",
    "    dill.dump(TotModes,out_strm)"
   ]
  },
  {
   "cell_type": "code",
   "execution_count": 78,
   "metadata": {
    "collapsed": false
   },
   "outputs": [
    {
     "data": {
      "text/plain": [
       "['annual_inc',\n",
       " 'dti',\n",
       " 'emp_length',\n",
       " 'fico_range_high',\n",
       " 'fico_range_low',\n",
       " 'home_ownership_ANY',\n",
       " 'home_ownership_MORTGAGE',\n",
       " 'home_ownership_NONE',\n",
       " 'home_ownership_OTHER',\n",
       " 'home_ownership_OWN',\n",
       " 'home_ownership_RENT',\n",
       " 'loan_amnt',\n",
       " 'open_acc',\n",
       " 'policy_code',\n",
       " 'pub_rec',\n",
       " 'sub_grade',\n",
       " 'term',\n",
       " 'total_acc']"
      ]
     },
     "execution_count": 78,
     "metadata": {},
     "output_type": "execute_result"
    }
   ],
   "source": []
  },
  {
   "cell_type": "code",
   "execution_count": 80,
   "metadata": {
    "collapsed": false
   },
   "outputs": [
    {
     "name": "stdout",
     "output_type": "stream",
     "text": [
      "[('dti', 0.1508685928196716), ('annual_inc', 0.13692133735420761), ('loan_amnt', 0.12211874580051592), ('sub_grade', 0.11996917410243554), ('total_acc', 0.11263709925340408), ('open_acc', 0.092648392903049562), ('emp_length', 0.074658986728847437), ('fico_range_low', 0.064074135305509441), ('fico_range_high', 0.062755123134168991), ('term', 0.019984832525629676), ('pub_rec', 0.014157857438953174), ('home_ownership_MORTGAGE', 0.010746094673376984), ('home_ownership_RENT', 0.010694809810878798), ('home_ownership_OWN', 0.007455018225750093), ('home_ownership_OTHER', 0.00023341699429887925), ('home_ownership_NONE', 7.0199962168635859e-05), ('home_ownership_ANY', 6.1829671339511274e-06), ('policy_code', 0.0)]\n"
     ]
    }
   ],
   "source": [
    "a=TotRFMOD[1]\n",
    "a.feature_importances_\n",
    "importance=[(DictVectorT.feature_names_[i],a.feature_importances_[i]) for i in xrange(len(a.feature_importances_))]\n",
    "\n",
    "importance = sorted(importance,key = lambda tup:tup[1],reverse=True)\n",
    "print importance\n"
   ]
  },
  {
   "cell_type": "code",
   "execution_count": 2,
   "metadata": {
    "collapsed": false
   },
   "outputs": [],
   "source": [
    "# from collections import OrderedDict\n",
    "\n",
    "# import pandas as pd\n",
    "\n",
    "# from bokeh.charts import Bar, output_file, show\n",
    "# from bokeh.sampledata.olympics2014 import data\n",
    "# import bokeh\n",
    "# from bokeh.models import HoverTool, ColumnDataSource\n",
    "\n",
    "\n",
    "# # get the countries and we group the data by medal type\n",
    "# gold = meanFico.Paid\n",
    "# silver = 1-meanFico.Paid\n",
    "# countries =[str(meanFico.index[i]) for i in xrange(len(gold))]\n",
    "\n",
    "# for i in xrange(len(gold)):\n",
    "#     meanFico['WTF'].iloc[i] = (meanFico.index[i])\n",
    "\n",
    "# gold = gold.iloc[2:]\n",
    "# silver = silver.iloc[2:]\n",
    "# countries = countries[2:]\n",
    "# # build a dict containing the grouped data\n",
    "# medals = OrderedDict(silver=silver, gold=gold)\n",
    "# fscor = meanFico.WTF.iloc[2:]\n"
   ]
  },
  {
   "cell_type": "code",
   "execution_count": 1,
   "metadata": {
    "collapsed": false
   },
   "outputs": [],
   "source": [
    "# output_notebook()\n",
    "# TOOLS = \"hover,save\"\n",
    "# bar = Bar(medals, countries, title=\"Pay Off versus Default\", \n",
    "#           stacked=True,width=1500, height=800,tools = TOOLS,\n",
    "#           ylabel='Probability',\n",
    "#           xlabel='FICO credit score')\n",
    "# source = ColumnDataSource(\n",
    "#     data=dict(\n",
    "#         gold = fscor,\n",
    "#         silver = silver,\n",
    "#         fscor = fscor,\n",
    "#      )\n",
    "# )\n",
    "\n",
    "# hover = bar.select(dict(type=HoverTool))\n",
    "# hover.tooltips = OrderedDict([\n",
    "#     (\"Pay off chance\", \"@gold\"),\n",
    "#     (\"Default chance\", \"@silver\"),\n",
    "#     (\"FICO score\", \"$x\"),\n",
    "# ])\n",
    "# show(bar)"
   ]
  },
  {
   "cell_type": "code",
   "execution_count": 365,
   "metadata": {
    "collapsed": false
   },
   "outputs": [
    {
     "name": "stderr",
     "output_type": "stream",
     "text": [
      "/Users/jingfengli/anaconda/lib/python2.7/site-packages/IPython/kernel/__main__.py:2: SettingWithCopyWarning: \n",
      "A value is trying to be set on a copy of a slice from a DataFrame.\n",
      "Try using .loc[row_indexer,col_indexer] = value instead\n",
      "\n",
      "See the the caveats in the documentation: http://pandas.pydata.org/pandas-docs/stable/indexing.html#indexing-view-versus-copy\n",
      "  from IPython.kernel.zmq import kernelapp as app\n",
      "/Users/jingfengli/anaconda/lib/python2.7/site-packages/IPython/kernel/__main__.py:3: SettingWithCopyWarning: \n",
      "A value is trying to be set on a copy of a slice from a DataFrame.\n",
      "Try using .loc[row_indexer,col_indexer] = value instead\n",
      "\n",
      "See the the caveats in the documentation: http://pandas.pydata.org/pandas-docs/stable/indexing.html#indexing-view-versus-copy\n",
      "  app.launch_new_instance()\n",
      "/Users/jingfengli/anaconda/lib/python2.7/site-packages/IPython/kernel/__main__.py:4: SettingWithCopyWarning: \n",
      "A value is trying to be set on a copy of a slice from a DataFrame\n",
      "\n",
      "See the the caveats in the documentation: http://pandas.pydata.org/pandas-docs/stable/indexing.html#indexing-view-versus-copy\n"
     ]
    }
   ],
   "source": [
    "Fico = CleanUpRecord\n",
    "Fico['fico']=Fico.fico_range_high\n",
    "Fico['Paid'] = Fico['stat']\n",
    "Fico.Paid[Fico['Paid'] == -1] =0\n",
    "meanFico=Fico.groupby(['fico']).mean()\n",
    "cntFico=Fico.groupby(['fico']).count()\n",
    "\n",
    "# print pd.unique(Fico.stat)"
   ]
  },
  {
   "cell_type": "code",
   "execution_count": 3,
   "metadata": {
    "collapsed": false
   },
   "outputs": [],
   "source": [
    "# output_notebook()\n",
    "# TOOLS = \"hover,save,box_zoom,reset\"\n",
    "# bb = cntFico.Paid.iloc[2:]\n",
    "# newmedals = OrderedDict(bb=bb)\n",
    "\n",
    "# bar = Bar(newmedals, countries, title=\"Distribution of Loans\", \n",
    "#           width=1500, height=800,tools = TOOLS,\n",
    "#           ylabel='Number of Loans',\n",
    "#           xlabel='FICO credit score')\n",
    "# source = ColumnDataSource(\n",
    "#     data=dict(\n",
    "#         bb = bb,\n",
    "#      )\n",
    "# )\n",
    "\n",
    "# hover = bar.select(dict(type=HoverTool))\n",
    "# hover.tooltips = OrderedDict([\n",
    "#     (\"Loans (#)\", \"@bb\"),\n",
    "# #     (\"Default chance\", \"@silver\"),\n",
    "#     (\"FICO score\", \"$x\"),\n",
    "# ])\n",
    "# show(bar)"
   ]
  },
  {
   "cell_type": "code",
   "execution_count": 390,
   "metadata": {
    "collapsed": false
   },
   "outputs": [
    {
     "data": {
      "text/plain": [
       "pandas.core.series.Series"
      ]
     },
     "execution_count": 390,
     "metadata": {},
     "output_type": "execute_result"
    }
   ],
   "source": [
    "type(silver)"
   ]
  },
  {
   "cell_type": "code",
   "execution_count": 331,
   "metadata": {
    "collapsed": false
   },
   "outputs": [
    {
     "data": {
      "image/png": "[encoded data removed]",
      "text/plain": [
       "<matplotlib.figure.Figure at 0x2ee187710>"
      ]
     },
     "metadata": {},
     "output_type": "display_data"
    }
   ],
   "source": [
    "import matplotlib.pyplot as plt\n",
    "pp = [importance[i][1] for i in xrange(18)]\n",
    "labels= [importance[i][0] for i in xrange(18)]\n",
    "# print pp\n",
    "\n",
    "\n",
    "\n",
    "# This gives me the plot:\n",
    "# pNYC10 = sns.factorplot(x=np.linspace(0,18,18),y=np.array(pp),aspect=3)\n",
    "# pNYC10.set_xticklabels(rotation=30)\n",
    "# pNYC10.set_axis_labels(\"Water System - NYC, 2015\", \"Complaints\")\n",
    "\n",
    "fig, ax = plt.subplots()\n",
    "ax.bar(np.linspace(0,18,18),np.array(pp),width=0.7)\n",
    "plt.xticks(np.linspace(0,18,18)+0.5, labels)\n",
    "fig.autofmt_xdate()\n",
    "\n",
    "plt.title('Importance of Individual Feature in Predicting Loans')\n",
    "plt.ylabel('Importance')\n",
    "plt.xlim([-0.5,19])\n",
    "# Pad margins so that markers don't get clipped by the axes\n",
    "plt.margins(0.2)\n",
    "# Tweak spacing to prevent clipping of tick-labels\n",
    "plt.subplots_adjust(bottom=0.15)\n",
    "plt.show()\n",
    " \n",
    "    \n"
   ]
  },
  {
   "cell_type": "code",
   "execution_count": 51,
   "metadata": {
    "collapsed": false
   },
   "outputs": [],
   "source": [
    "from sklearn.linear_model import LogisticRegression\n",
    "# combine all the models\n",
    "# y_cmb = []\n",
    "# for RF in TotRFMOD:\n",
    "#     y_cmb.append(RF.predict_proba(X_train)[:,0])\n",
    "\n",
    "# for RF in TotGBGMOD:\n",
    "#     y_cmb.append(RF.predict_proba(X_train)[:,0])\n",
    "\n",
    "# for RF in TotLGRMOD:\n",
    "#     y_cmb.append(RF.predict_proba(X_train)[:,0])\n",
    "\n",
    "    \n",
    "y_cmb_pred = []\n",
    "for RF in TotRFMOD:\n",
    "    y_cmb_pred.append(RF.predict(X_train))\n",
    "\n",
    "for RF in TotGBGMOD:\n",
    "    y_cmb_pred.append(RF.predict(X_train))\n",
    "\n",
    "for RF in TotLGRMOD:\n",
    "    y_cmb_pred.append(RF.predict(X_train))\n"
   ]
  },
  {
   "cell_type": "code",
   "execution_count": 53,
   "metadata": {
    "collapsed": false
   },
   "outputs": [
    {
     "data": {
      "text/plain": [
       "array([-1.,  1.])"
      ]
     },
     "execution_count": 53,
     "metadata": {},
     "output_type": "execute_result"
    }
   ],
   "source": [
    "# \n",
    "np.unique(y_train)\n",
    "# print (np.array(y_cmb)).shape\n",
    "# print len(y_train)\n"
   ]
  },
  {
   "cell_type": "code",
   "execution_count": 68,
   "metadata": {
    "collapsed": false
   },
   "outputs": [
    {
     "data": {
      "text/plain": [
       "LogisticRegression(C=1.0, class_weight={1: 0.2, -1: 0.8}, dual=False,\n",
       "          fit_intercept=True, intercept_scaling=1, max_iter=100,\n",
       "          multi_class='ovr', penalty='l2', random_state=None,\n",
       "          solver='liblinear', tol=0.0001, verbose=0)"
      ]
     },
     "execution_count": 68,
     "metadata": {},
     "output_type": "execute_result"
    }
   ],
   "source": [
    "FinalLGR = LogisticRegression(class_weight={-1:0.8,1:0.2})\n",
    "FinalLGR.fit(np.array(y_cmb)[6:,:].T,y_train)"
   ]
  },
  {
   "cell_type": "code",
   "execution_count": 59,
   "metadata": {
    "collapsed": false
   },
   "outputs": [],
   "source": [
    "# y_cmb_test = []\n",
    "# for RF in TotRFMOD:\n",
    "#     y_cmb_test.append(RF.predict_proba(X_test)[:,0])\n",
    "\n",
    "# for RF in TotGBGMOD:\n",
    "#     y_cmb_test.append(RF.predict_proba(X_test)[:,0])\n",
    "\n",
    "# for RF in TotLGRMOD:\n",
    "#     y_cmb_test.append(RF.predict_proba(X_test)[:,0])\n",
    "\n",
    "y_cmb_test_pred = []\n",
    "for RF in TotRFMOD:\n",
    "    y_cmb_test_pred.append(RF.predict(X_test))\n",
    "\n",
    "for RF in TotGBGMOD:\n",
    "    y_cmb_test_pred.append(RF.predict(X_test))\n",
    "\n",
    "for RF in TotLGRMOD:\n",
    "    y_cmb_test_pred.append(RF.predict(X_test))\n",
    "\n",
    "\n",
    "\n"
   ]
  },
  {
   "cell_type": "code",
   "execution_count": null,
   "metadata": {
    "collapsed": true
   },
   "outputs": [],
   "source": []
  },
  {
   "cell_type": "code",
   "execution_count": null,
   "metadata": {
    "collapsed": true
   },
   "outputs": [],
   "source": []
  },
  {
   "cell_type": "code",
   "execution_count": null,
   "metadata": {
    "collapsed": true
   },
   "outputs": [],
   "source": []
  },
  {
   "cell_type": "code",
   "execution_count": null,
   "metadata": {
    "collapsed": true
   },
   "outputs": [],
   "source": []
  },
  {
   "cell_type": "code",
   "execution_count": null,
   "metadata": {
    "collapsed": true
   },
   "outputs": [],
   "source": [
    "# y_cmb_tot = []\n",
    "# for RF in TotRFMOD:\n",
    "#     y_cmb_tot.append(RF.predict_proba(X_test)[:,0])\n",
    "\n",
    "# for RF in TotGBGMOD:\n",
    "#     y_cmb_tot.append(RF.predict_proba(X_test)[:,0])\n",
    "\n",
    "# for RF in TotLGRMOD:\n",
    "#     y_cmb_tot.append(RF.predict_proba(X_test)[:,0])\n",
    "\n",
    "# y_cmb_tot_pred = []\n",
    "# for RF in TotRFMOD:\n",
    "#     y_cmb_tot_pred.append(RF.predict(X_test))\n",
    "\n",
    "# for RF in TotGBGMOD:\n",
    "#     y_cmb_tot_pred.append(RF.predict(X_test))\n",
    "\n",
    "# for RF in TotLGRMOD:\n",
    "#     y_cmb_tot_pred.append(RF.predict(X_test))\n",
    "\n",
    "\n"
   ]
  },
  {
   "cell_type": "code",
   "execution_count": null,
   "metadata": {
    "collapsed": true
   },
   "outputs": [],
   "source": [
    "# ROC curve\n",
    "plt.figure()\n",
    "plt.plot([0,1],[0,1])\n",
    "plt"
   ]
  },
  {
   "cell_type": "code",
   "execution_count": null,
   "metadata": {
    "collapsed": true
   },
   "outputs": [],
   "source": [
    "y_pred_cmb_train=FinalLGR.predict(np.array(y_cmb)[6:,:].T)\n",
    "y_pred_cmb_test=FinalLGR.predict(np.array(y_cmb_test)[6:,:].T)\n",
    "\n",
    "print 'Train ',Compute_TPFN(y_pred_cmb_train,y_train)\n",
    "print 'Test ',Compute_TPFN(y_pred_cmb_test,y_test)\n",
    "for i in range(15):\n",
    "    print 'MODEL ', i , ' ',Compute_TPFN(y_cmb_pred[i],y_train)\n"
   ]
  },
  {
   "cell_type": "code",
   "execution_count": 165,
   "metadata": {
    "collapsed": false
   },
   "outputs": [
    {
     "name": "stdout",
     "output_type": "stream",
     "text": [
      "1.0\n"
     ]
    }
   ],
   "source": [
    "# To demonstrate the proof of concept using MODEL - 7\n",
    "\n",
    "\n",
    "# crt = 0.78\n",
    "# for i in xrange(len(y_prob_proof)):\n",
    "#     if y_prob_proof[i]>crt and y_prob_proof[i]<crt+0.1:\n",
    "#         break\n",
    "        \n",
    "# print y_truth_proof[i], y_prob_proof[i], y_pred_proof[i]\n"
   ]
  },
  {
   "cell_type": "code",
   "execution_count": 464,
   "metadata": {
    "collapsed": false
   },
   "outputs": [
    {
     "data": {
      "image/png": "[encoded data removed]",
      "text/plain": [
       "<matplotlib.figure.Figure at 0x266bd2b90>"
      ]
     },
     "metadata": {},
     "output_type": "display_data"
    }
   ],
   "source": [
    "MODEL_ID = 7\n",
    "Grade = 31\n",
    "X_raw_proof = X_train\n",
    "y_prob_proof = 1- np.array(y_cmb[MODEL_ID])\n",
    "\n",
    "y_pred_proof = np.array(y_cmb_pred[MODEL_ID])\n",
    "y_truth_proof = np.array(y_train)\n",
    "N = 100\n",
    "crit = np.linspace(0,1,N+1)\n",
    "ratio = [] \n",
    "cnt = []\n",
    "for i in crit:\n",
    "    tmp = y_truth_proof[(y_prob_proof>=i) & (y_prob_proof<= (i+0.1)) & (X_raw_proof[:,15]==Grade)]\n",
    "#     print i,len(tmp),len(tmp[tmp==1])\n",
    "    cnt.append(len(tmp[tmp==1]))\n",
    "    ratio.append(len(tmp[tmp==1])*1.0/(len(tmp)+0.0001))\n",
    "\n",
    "ratio = np.array(ratio)\n",
    "cnt = np.array(cnt)\n",
    "plt.bar(crit,cnt/(sum(cnt)*0.01),width=0.99/(N*1.5))\n",
    "plt.bar(crit[73],cnt[73]/(sum(cnt)*0.01),width=0.99/(N*1.5), color='orange')\n",
    "plt.annotate('Your Loan', xy=(crit[73]+0.005, cnt[73]/(sum(cnt)*0.01)), xytext=(crit[73]+0.1, 2),\n",
    "            arrowprops=dict(facecolor='orange', shrink=0.01)\n",
    "            )\n",
    "\n",
    "font = {'family' : 'serif',\n",
    "        'color'  : 'darkred',\n",
    "        'weight' : 'normal',\n",
    "        'size'   : 30,\n",
    "        }\n",
    "plt.text(crit[0]+0.02, 3.10, 'Grade: C1', fontdict=font)\n",
    "plt.xlabel('Paying off Score')\n",
    "plt.ylabel('Percent (%)')\n",
    "plt.title('Distribution of Paying off Scores')\n",
    "\n",
    "plt.xlim([0,1])\n",
    "# plt.plot(1-crit,ratio)\n",
    "plt.show()"
   ]
  },
  {
   "cell_type": "code",
   "execution_count": null,
   "metadata": {
    "collapsed": true
   },
   "outputs": [],
   "source": [
    "SubRecord = CleanUpRecord[CleanUpRecord.sub_grade=='C1']\n",
    "SubRecord['Paid'] = SubRecord['stat']\n",
    "SubRecord.Paid[SubRecord.Paid==-1] =0"
   ]
  },
  {
   "cell_type": "code",
   "execution_count": 309,
   "metadata": {
    "collapsed": false
   },
   "outputs": [],
   "source": [
    "StateData=SubRecord.groupby(['addr_state']).mean()\n",
    "ZipData=SubRecord.groupby(['zip_code']).mean()\n",
    "\n",
    "StateData.to_csv('StateData.csv', sep=',')\n",
    "ZipData.to_csv('ZipData.csv', sep=',')"
   ]
  },
  {
   "cell_type": "code",
   "execution_count": null,
   "metadata": {
    "collapsed": true
   },
   "outputs": [],
   "source": [
    "# http://cdb.io/1R0a6u"
   ]
  },
  {
   "cell_type": "code",
   "execution_count": null,
   "metadata": {
    "collapsed": true
   },
   "outputs": [],
   "source": []
  },
  {
   "cell_type": "code",
   "execution_count": null,
   "metadata": {
    "collapsed": true
   },
   "outputs": [],
   "source": []
  },
  {
   "cell_type": "code",
   "execution_count": 285,
   "metadata": {
    "collapsed": true
   },
   "outputs": [],
   "source": [
    "from bokeh.plotting import figure, show, output_notebook"
   ]
  },
  {
   "cell_type": "code",
   "execution_count": 290,
   "metadata": {
    "collapsed": false
   },
   "outputs": [
    {
     "data": {
      "text/plain": [
       "list"
      ]
     },
     "execution_count": 290,
     "metadata": {},
     "output_type": "execute_result"
    }
   ],
   "source": [
    "type(county_xs)"
   ]
  },
  {
   "cell_type": "code",
   "execution_count": null,
   "metadata": {
    "collapsed": true
   },
   "outputs": [],
   "source": [
    "colors = [\"#%02x%02x%02x\" % (r, g, 150) for r, g in zip(np.floor(50+2*x), np.floor(30+2*y))]"
   ]
  },
  {
   "cell_type": "code",
   "execution_count": null,
   "metadata": {
    "collapsed": true
   },
   "outputs": [],
   "source": []
  },
  {
   "cell_type": "code",
   "execution_count": 283,
   "metadata": {
    "collapsed": false
   },
   "outputs": [
    {
     "data": {
      "text/plain": [
       "61068"
      ]
     },
     "execution_count": 283,
     "metadata": {},
     "output_type": "execute_result"
    }
   ],
   "source": [
    "sum(cnt)"
   ]
  },
  {
   "cell_type": "code",
   "execution_count": 284,
   "metadata": {
    "collapsed": false
   },
   "outputs": [
    {
     "name": "stdout",
     "output_type": "stream",
     "text": [
      "Your loans beat 96.33 % loans with the same grade\n"
     ]
    }
   ],
   "source": [
    "print 'Your loans beat %.2f' % (sum(cnt[0:73])*100.0/sum(cnt)), '% loans with the same grade'"
   ]
  },
  {
   "cell_type": "code",
   "execution_count": 242,
   "metadata": {
    "collapsed": false
   },
   "outputs": [
    {
     "name": "stdout",
     "output_type": "stream",
     "text": [
      "91441 2.0 -1.0 [  6.24000000e+04   3.48100000e+01   7.00000000e+00   7.49000000e+02\n",
      "   7.45000000e+02   0.00000000e+00   1.00000000e+00   0.00000000e+00\n",
      "   0.00000000e+00   0.00000000e+00   0.00000000e+00   1.20000000e+04\n",
      "   2.70000000e+01   1.00000000e+00   0.00000000e+00   2.30000000e+01\n",
      "   3.60000000e+01   3.70000000e+01] ['annual_inc', 'dti', 'emp_length', 'fico_range_high', 'fico_range_low', 'home_ownership_ANY', 'home_ownership_MORTGAGE', 'home_ownership_NONE', 'home_ownership_OTHER', 'home_ownership_OWN', 'home_ownership_RENT', 'loan_amnt', 'open_acc', 'policy_code', 'pub_rec', 'sub_grade', 'term', 'total_acc']\n"
     ]
    }
   ],
   "source": [
    "MODEL_ID = 7\n",
    "Grade = 23\n",
    "X_raw_proof = X_train\n",
    "y_prob_proof = np.array(y_cmb[MODEL_ID])\n",
    "\n",
    "y_pred_proof = 1 - np.array(y_cmb_pred[MODEL_ID])\n",
    "y_truth_proof = np.array(y_train)\n",
    "\n",
    "Eg = []\n",
    "for i in xrange(len(y_truth_proof)):\n",
    "    if (X_raw_proof[i,15]==Grade) and y_prob_proof[i] > 0.73 and  y_prob_proof[i] < 0.74:\n",
    "        Eg.append(i)\n",
    "i = Eg[10]\n",
    "\n",
    "print i,y_pred_proof[i],y_truth_proof[i],X_raw_proof[i],DictVectorT.feature_names_\n"
   ]
  },
  {
   "cell_type": "code",
   "execution_count": 463,
   "metadata": {
    "collapsed": false
   },
   "outputs": [
    {
     "name": "stdout",
     "output_type": "stream",
     "text": [
      "35302 1.0 1.0 [  1.25000000e+05   2.32300000e+01   1.00000000e+01   7.24000000e+02\n",
      "   7.20000000e+02   0.00000000e+00   1.00000000e+00   0.00000000e+00\n",
      "   0.00000000e+00   0.00000000e+00   0.00000000e+00   1.20000000e+04\n",
      "   1.60000000e+01   1.00000000e+00   0.00000000e+00   3.10000000e+01\n",
      "   3.60000000e+01   4.20000000e+01] ['annual_inc', 'dti', 'emp_length', 'home_ownership_ANY', 'home_ownership_MORTGAGE', 'home_ownership_NONE', 'home_ownership_OTHER', 'home_ownership_OWN', 'home_ownership_RENT', 'last_fico_range_high', 'last_fico_range_low', 'loan_amnt', 'open_acc', 'policy_code', 'pub_rec', 'sub_grade', 'term', 'total_acc']\n",
      "0.979591836735\n"
     ]
    }
   ],
   "source": [
    "MODEL_ID = 7\n",
    "Grade = 31\n",
    "X_raw_proof = X_train\n",
    "y_prob_proof = 1-np.array(y_cmb[MODEL_ID])\n",
    "\n",
    "y_pred_proof = np.array(y_cmb_pred[MODEL_ID])\n",
    "y_truth_proof = np.array(y_train)\n",
    "\n",
    "Eg = []\n",
    "for i in xrange(len(y_truth_proof)):\n",
    "    if (X_raw_proof[i,15]==Grade) and y_prob_proof[i] > 0.73 and  y_prob_proof[i] < 0.74:\n",
    "        Eg.append(i)\n",
    "i = Eg[10]\n",
    "\n",
    "print i,y_pred_proof[i],y_truth_proof[i],X_raw_proof[i],DictVectorT.feature_names_\n",
    "print len(y_truth_proof[y_truth_proof[Eg]==1])*1.0/len(Eg)"
   ]
  },
  {
   "cell_type": "code",
   "execution_count": 23,
   "metadata": {
    "collapsed": false
   },
   "outputs": [],
   "source": [
    "# y_proba_rf= RFfit.predict_proba(X_test)\n",
    "y_pred_rf = RFfit.predict(X_test)\n",
    "y_pred_rf_train = RFfit.predict(Xy_train_bal[0][0])"
   ]
  },
  {
   "cell_type": "code",
   "execution_count": 451,
   "metadata": {
    "collapsed": false
   },
   "outputs": [
    {
     "name": "stdout",
     "output_type": "stream",
     "text": [
      "91441 -1.0 -1.0 [  6.24000000e+04   3.48100000e+01   7.00000000e+00   7.49000000e+02\n",
      "   7.45000000e+02   0.00000000e+00   1.00000000e+00   0.00000000e+00\n",
      "   0.00000000e+00   0.00000000e+00   0.00000000e+00   1.20000000e+04\n",
      "   2.70000000e+01   1.00000000e+00   0.00000000e+00   2.30000000e+01\n",
      "   3.60000000e+01   3.70000000e+01] ['annual_inc', 'dti', 'emp_length', 'home_ownership_ANY', 'home_ownership_MORTGAGE', 'home_ownership_NONE', 'home_ownership_OTHER', 'home_ownership_OWN', 'home_ownership_RENT', 'last_fico_range_high', 'last_fico_range_low', 'loan_amnt', 'open_acc', 'policy_code', 'pub_rec', 'sub_grade', 'term', 'total_acc']\n"
     ]
    }
   ],
   "source": [
    "i = 91441 \n",
    "print i,y_pred_proof[i],y_truth_proof[i],X_raw_proof[i],DictVectorT.feature_names_\n"
   ]
  },
  {
   "cell_type": "code",
   "execution_count": 26,
   "metadata": {
    "collapsed": false
   },
   "outputs": [
    {
     "name": "stdout",
     "output_type": "stream",
     "text": [
      "               count\n",
      "y_pred y_true       \n",
      "-1     -1       7162\n",
      "        1      19425\n",
      " 1     -1       3837\n",
      "        1      31266\n",
      "               count\n",
      "y_pred y_true       \n",
      "-1     -1      22392\n",
      " 1      1      22392\n",
      "22392 22392\n"
     ]
    }
   ],
   "source": [
    "def Compute_TPFN(y_pred,y_true):\n",
    "    df = pd.DataFrame(columns=('y_pred','y_true','count'))\n",
    "    df['y_pred'] = pd.Series(y_pred)\n",
    "    df['y_true'] = pd.Series(np.array(y_true))\n",
    "    df['count'] = 1\n",
    "    return df.groupby(['y_pred','y_true']).count()\n",
    "\n",
    "# print Compute_TPFN(y_pred_train,y_train)\n",
    "print Compute_TPFN(y_pred_rf,y_test)\n",
    "print Compute_TPFN(y_pred_rf_train,Xy_train_bal[0][1])\n",
    "\n"
   ]
  },
  {
   "cell_type": "code",
   "execution_count": 152,
   "metadata": {
    "collapsed": false
   },
   "outputs": [
    {
     "data": {
      "text/plain": [
       "GradientBoostingClassifier(init=None, learning_rate=0.05, loss='deviance',\n",
       "              max_depth=5, max_features='sqrt', max_leaf_nodes=None,\n",
       "              min_samples_leaf=1, min_samples_split=2,\n",
       "              min_weight_fraction_leaf=0.0, n_estimators=1000,\n",
       "              random_state=None, subsample=1.0, verbose=0,\n",
       "              warm_start=False)"
      ]
     },
     "execution_count": 152,
     "metadata": {},
     "output_type": "execute_result"
    }
   ],
   "source": []
  },
  {
   "cell_type": "code",
   "execution_count": 159,
   "metadata": {
    "collapsed": false
   },
   "outputs": [
    {
     "name": "stdout",
     "output_type": "stream",
     "text": [
      "               count\n",
      "y_pred y_true       \n",
      "33391  33391   50350\n",
      "       153546  10555\n",
      "153546 33391     405\n",
      "       153546    380\n"
     ]
    }
   ],
   "source": [
    "y_proba= clf.predict_proba(X_test)\n",
    "# y_pred = clf.predict(X_test)\n",
    "print Compute_TPFN(y_pred,y_test)"
   ]
  },
  {
   "cell_type": "code",
   "execution_count": 155,
   "metadata": {
    "collapsed": false
   },
   "outputs": [
    {
     "data": {
      "text/plain": [
       "RandomForestClassifier(bootstrap=True, class_weight=None, criterion='gini',\n",
       "            max_depth=None, max_features='auto', max_leaf_nodes=None,\n",
       "            min_samples_leaf=1, min_samples_split=2,\n",
       "            min_weight_fraction_leaf=0.0, n_estimators=300, n_jobs=1,\n",
       "            oob_score=False, random_state=None, verbose=0,\n",
       "            warm_start=False)"
      ]
     },
     "execution_count": 155,
     "metadata": {},
     "output_type": "execute_result"
    }
   ],
   "source": [
    "# RFfit =RandomForestClassifier(n_estimators=300)\n",
    "# RFfit.fit(X_train,y_train,sample_weight=np.array(y_train))"
   ]
  },
  {
   "cell_type": "code",
   "execution_count": 162,
   "metadata": {
    "collapsed": true
   },
   "outputs": [],
   "source": [
    "ytrain_proba_rf= RFfit.predict_proba(X_train)\n",
    "ytrain_proba= clf.predict_proba(X_train)"
   ]
  },
  {
   "cell_type": "code",
   "execution_count": 51,
   "metadata": {
    "collapsed": false
   },
   "outputs": [],
   "source": [
    "y_proba= RFfit.predict_proba(X_vect)\n",
    "# y_pred = RFfit.predict(X_vect)\n",
    "# print Compute_TPFN(y_pred,y_test)"
   ]
  },
  {
   "cell_type": "code",
   "execution_count": 166,
   "metadata": {
    "collapsed": false
   },
   "outputs": [
    {
     "data": {
      "text/plain": [
       "LogisticRegression(C=1.0, class_weight=None, dual=False, fit_intercept=True,\n",
       "          intercept_scaling=1, max_iter=100, multi_class='ovr',\n",
       "          penalty='l2', random_state=None, solver='liblinear', tol=0.0001,\n",
       "          verbose=0)"
      ]
     },
     "execution_count": 166,
     "metadata": {},
     "output_type": "execute_result"
    }
   ],
   "source": [
    "from sklearn.linear_model import LogisticRegression\n",
    "cmb = np.array([y_proba_rf[:,0],y_proba[:,0]]).T\n",
    "LRclf = LogisticRegression()\n",
    "LRclf.fit(cmb,y_test)"
   ]
  },
  {
   "cell_type": "code",
   "execution_count": 167,
   "metadata": {
    "collapsed": true
   },
   "outputs": [],
   "source": [
    "y_pred_cmb = LRclf.predict(cmb)"
   ]
  },
  {
   "cell_type": "code",
   "execution_count": 170,
   "metadata": {
    "collapsed": false
   },
   "outputs": [
    {
     "name": "stdout",
     "output_type": "stream",
     "text": [
      "               count\n",
      "y_pred y_true       \n",
      "33391  33391   50137\n",
      "       153546  10377\n",
      "153546 33391     618\n",
      "       153546    558\n"
     ]
    }
   ],
   "source": [
    "print Compute_TPFN(y_pred_cmb,y_test)"
   ]
  },
  {
   "cell_type": "code",
   "execution_count": null,
   "metadata": {
    "collapsed": true
   },
   "outputs": [],
   "source": []
  },
  {
   "cell_type": "code",
   "execution_count": 61,
   "metadata": {
    "collapsed": true
   },
   "outputs": [],
   "source": [
    "for i in xrange(len(y_proba)):\n",
    "    if y_proba[i,0]>0.7 and y_proba[i,0]<0.73:\n",
    "        break\n",
    "    "
   ]
  },
  {
   "cell_type": "code",
   "execution_count": 223,
   "metadata": {
    "collapsed": false
   },
   "outputs": [],
   "source": [
    "LoanGrade = 'C1'\n",
    "\n",
    "PayOff_Prob = []\n",
    "PayOff_True = []\n",
    "for i in xrange(len(y_proba)):\n",
    "    if X.sub_grade.iloc[i] == LoanGrade:\n",
    "        PayOff_Prob.append(y_proba[i,0])\n",
    "        PayOff_True.append(y_test.iloc[i]== 33391 )\n",
    "\n"
   ]
  },
  {
   "cell_type": "code",
   "execution_count": 224,
   "metadata": {
    "collapsed": false
   },
   "outputs": [],
   "source": [
    "P = np.linspace(0,1,10)\n",
    "PayOff = pd.DataFrame()\n",
    "PayOff_True = np.array(PayOff_True)\n",
    "PayOff_Prob = np.array(PayOff_Prob)\n",
    "\n",
    "C =[]\n",
    "for p in P:\n",
    "    C.append(sum(PayOff_True[(PayOff_Prob>=p) &(PayOff_Prob<=0.1+p)])*1.0\n",
    "             /(len(PayOff_True[(PayOff_Prob>=p) &(PayOff_Prob<=0.1+p)])+1))"
   ]
  },
  {
   "cell_type": "code",
   "execution_count": 228,
   "metadata": {
    "collapsed": false
   },
   "outputs": [
    {
     "data": {
      "text/plain": [
       "82.401412595644501"
      ]
     },
     "execution_count": 228,
     "metadata": {},
     "output_type": "execute_result"
    }
   ],
   "source": [
    "Baseline_P = sum(PayOff_True)*1.0/len(PayOff_True)\n",
    "# Let us build a bench mark\n",
    "Bench = \n",
    "for i in PayOff_Prob:\n",
    "    "
   ]
  },
  {
   "cell_type": "code",
   "execution_count": 227,
   "metadata": {
    "collapsed": false
   },
   "outputs": [
    {
     "data": {
      "text/plain": [
       "[<matplotlib.lines.Line2D at 0x12ee601d0>]"
      ]
     },
     "execution_count": 227,
     "metadata": {},
     "output_type": "execute_result"
    },
    {
     "data": {
      "image/png": "[encoded data removed]",
      "text/plain": [
       "<matplotlib.figure.Figure at 0x122d86650>"
      ]
     },
     "metadata": {},
     "output_type": "display_data"
    }
   ],
   "source": []
  },
  {
   "cell_type": "code",
   "execution_count": 175,
   "metadata": {
    "collapsed": false
   },
   "outputs": [
    {
     "data": {
      "image/png": "[encoded data removed]",
      "text/plain": [
       "<matplotlib.figure.Figure at 0x10e6b8890>"
      ]
     },
     "metadata": {},
     "output_type": "display_data"
    }
   ],
   "source": [
    "# # Generate a random sample.\n",
    "n = 100\n",
    "a,b=np.histogram(PayOff_Prob,bins = n)\n",
    "\n",
    "plt.bar(np.arange(len(b)-1)*1.0/n, a*1.0/a.sum() * 100, width=0.99/n)\n",
    "plt.xlim(0, 1)\n",
    "plt.ylabel(\"Distribution (%)\")\n",
    "plt.xlabel(\"Probabilty\")\n",
    "plt.title('Pay Off Probability')\n",
    "\n",
    "plt.show()"
   ]
  },
  {
   "cell_type": "code",
   "execution_count": 124,
   "metadata": {
    "collapsed": false
   },
   "outputs": [
    {
     "data": {
      "text/plain": [
       "array([ 0.  ,  0.01,  0.02,  0.03,  0.04,  0.05,  0.06,  0.07,  0.08,\n",
       "        0.09,  0.1 ,  0.11,  0.12,  0.13,  0.14,  0.15,  0.16,  0.17,\n",
       "        0.18,  0.19,  0.2 ,  0.21,  0.22,  0.23,  0.24,  0.25,  0.26,\n",
       "        0.27,  0.28,  0.29,  0.3 ,  0.31,  0.32,  0.33,  0.34,  0.35,\n",
       "        0.36,  0.37,  0.38,  0.39,  0.4 ,  0.41,  0.42,  0.43,  0.44,\n",
       "        0.45,  0.46,  0.47,  0.48,  0.49,  0.5 ,  0.51,  0.52,  0.53,\n",
       "        0.54,  0.55,  0.56,  0.57,  0.58,  0.59,  0.6 ,  0.61,  0.62,\n",
       "        0.63,  0.64,  0.65,  0.66,  0.67,  0.68,  0.69,  0.7 ,  0.71,\n",
       "        0.72,  0.73,  0.74,  0.75,  0.76,  0.77,  0.78,  0.79,  0.8 ,\n",
       "        0.81,  0.82,  0.83,  0.84,  0.85,  0.86,  0.87,  0.88,  0.89,\n",
       "        0.9 ,  0.91,  0.92,  0.93,  0.94,  0.95,  0.96,  0.97,  0.98,\n",
       "        0.99,  1.  ])"
      ]
     },
     "execution_count": 124,
     "metadata": {},
     "output_type": "execute_result"
    }
   ],
   "source": [
    "b"
   ]
  },
  {
   "cell_type": "code",
   "execution_count": 110,
   "metadata": {
    "collapsed": false
   },
   "outputs": [
    {
     "data": {
      "image/png": "[encoded data removed]",
      "text/plain": [
       "<matplotlib.figure.Figure at 0x12ef0e0d0>"
      ]
     },
     "metadata": {},
     "output_type": "display_data"
    }
   ],
   "source": [
    "# np.unique(PayOff_Prob)\n",
    "import matplotlib.pyplot as plt\n",
    "# plt.plot((a*1.0/a.sum()))\n",
    "plt.hist(PayOff_Prob,bins=1000)\n",
    "plt.show()"
   ]
  },
  {
   "cell_type": "code",
   "execution_count": 70,
   "metadata": {
    "collapsed": false
   },
   "outputs": [
    {
     "name": "stdout",
     "output_type": "stream",
     "text": [
      "annual_inc                   49200\n",
      "dti                             20\n",
      "emp_length               10+ years\n",
      "home_ownership                RENT\n",
      "loan_amnt                    10000\n",
      "open_acc                        10\n",
      "policy_code                      1\n",
      "pub_rec                          0\n",
      "sub_grade                       C1\n",
      "term                     36 months\n",
      "total_acc                       37\n",
      "last_fico_range_high           579\n",
      "last_fico_range_low            575\n",
      "Name: 3, dtype: object\n",
      "33391.0\n"
     ]
    }
   ],
   "source": [
    "print X.iloc[i]\n",
    "print y.iloc[i]"
   ]
  },
  {
   "cell_type": "code",
   "execution_count": null,
   "metadata": {
    "collapsed": true
   },
   "outputs": [],
   "source": []
  },
  {
   "cell_type": "code",
   "execution_count": null,
   "metadata": {
    "collapsed": true
   },
   "outputs": [],
   "source": []
  },
  {
   "cell_type": "code",
   "execution_count": null,
   "metadata": {
    "collapsed": true
   },
   "outputs": [],
   "source": []
  },
  {
   "cell_type": "code",
   "execution_count": 44,
   "metadata": {
    "collapsed": false
   },
   "outputs": [
    {
     "data": {
      "text/plain": [
       "Pipeline(steps=[('List2DictT', List2Dict_Transformer(str_keys=['home_ownership', 'sub_grade'])), ('DictVectorT', DictVectorizer(dtype=<type 'numpy.float64'>, separator='=', sort=True,\n",
       "        sparse=False)), ('RFfit', RandomForestClassifier(bootstrap=True, class_weight=None, criterion='gini',\n",
       "            max...imators=300, n_jobs=1,\n",
       "            oob_score=True, random_state=None, verbose=0, warm_start=False))])"
      ]
     },
     "execution_count": 44,
     "metadata": {},
     "output_type": "execute_result"
    }
   ],
   "source": [
    "# from sklearn.pipeline import Pipeline\n",
    "# from sklearn.feature_extraction import DictVectorizer\n",
    "\n",
    "rfpipeline = Pipeline([('List2DictT',List2Dict_Transformer()), \n",
    "                       ('DictVectorT',DictVectorizer()),\n",
    "                       ('RFfit',RandomForestClassifier())])\n",
    "rfpipeline.set_params(List2DictT__str_keys=['home_ownership'],\n",
    "                      DictVectorT__sparse=False,\n",
    "                      RFfit__n_estimators=300,\n",
    "                      RFfit__oob_score=True,\n",
    "#                       RFfit__sample_weight=y_train,\n",
    "                     )\n",
    "\n",
    "# rfpipeline.fit(X_train,y_train)"
   ]
  },
  {
   "cell_type": "code",
   "execution_count": 14,
   "metadata": {
    "collapsed": false
   },
   "outputs": [],
   "source": [
    "y_proba_test = rfpipeline.predict_proba(X_test)\n",
    "y_proba_train = rfpipeline.predict_proba(X_train)\n",
    "\n",
    "# y_pred_test = rfpipeline.predict(X_test)\n",
    "# y_pred_train = rfpipeline.predict(X_train)"
   ]
  },
  {
   "cell_type": "code",
   "execution_count": 22,
   "metadata": {
    "collapsed": true
   },
   "outputs": [],
   "source": [
    "y_pred_test = rfpipeline.predict(X_test)\n",
    "y_pred_train = rfpipeline.predict(X_train)"
   ]
  },
  {
   "cell_type": "code",
   "execution_count": 23,
   "metadata": {
    "collapsed": false
   },
   "outputs": [
    {
     "name": "stdout",
     "output_type": "stream",
     "text": [
      "                count\n",
      "y_pred y_true        \n",
      "-1     -1       22345\n",
      " 1      1      102902\n",
      "               count\n",
      "y_pred y_true       \n",
      "-1     -1        323\n",
      "        1        331\n",
      " 1     -1      10723\n",
      "        1      50313\n"
     ]
    }
   ],
   "source": [
    "# Let us do a ROC:\n",
    "def Proba2Pred(y_proba,cutoff=0.5):\n",
    "    y_pred = np.ones(len(y_proba))\n",
    "    y_pred[y_proba[:,0] > cutoff] = -1\n",
    "    return y_pred\n",
    "\n",
    "def Compute_TPFN(y_pred,y_true):\n",
    "    df = pd.DataFrame(columns=('y_pred','y_true','count'))\n",
    "    df['y_pred'] = pd.Series(y_pred)\n",
    "    df['y_true'] = pd.Series(np.array(y_true))\n",
    "    df['count'] = 1\n",
    "    return df.groupby(['y_pred','y_true']).count()\n",
    "\n",
    "print Compute_TPFN(y_pred_train,y_train)\n",
    "print Compute_TPFN(y_pred_test,y_test)"
   ]
  },
  {
   "cell_type": "code",
   "execution_count": 18,
   "metadata": {
    "collapsed": false
   },
   "outputs": [
    {
     "data": {
      "text/plain": [
       "dict_values([DictVectorizer(dtype=<type 'numpy.float64'>, separator='=', sort=True,\n",
       "        sparse=False), RandomForestClassifier(bootstrap=True, class_weight=None, criterion='gini',\n",
       "            max_depth=None, max_features='auto', max_leaf_nodes=None,\n",
       "            min_samples_leaf=1, min_samples_split=2,\n",
       "            min_weight_fraction_leaf=0.0, n_estimators=300, n_jobs=1,\n",
       "            oob_score=True, random_state=None, verbose=0, warm_start=False), List2Dict_Transformer(str_keys=['home_ownership', 'sub_grade'])])"
      ]
     },
     "execution_count": 18,
     "metadata": {},
     "output_type": "execute_result"
    }
   ],
   "source": []
  },
  {
   "cell_type": "code",
   "execution_count": null,
   "metadata": {
    "collapsed": true
   },
   "outputs": [],
   "source": []
  },
  {
   "cell_type": "code",
   "execution_count": null,
   "metadata": {
    "collapsed": true
   },
   "outputs": [],
   "source": [
    "importance=[(tot_feat_vec.columns[i],clf2.feature_importances_[i]) for i in xrange(len(clf2.feature_importances_))]\n",
    "\n",
    "importance = sorted(importance,key = lambda tup:tup[1],reverse=True)\n",
    "print importance"
   ]
  },
  {
   "cell_type": "code",
   "execution_count": 158,
   "metadata": {
    "collapsed": false
   },
   "outputs": [
    {
     "name": "stdout",
     "output_type": "stream",
     "text": [
      "1.0 [ 0.03  0.97] 61690\n"
     ]
    }
   ],
   "source": [
    "# print y_pred_test[0],y_proba_test[0],len(y_pred_test)"
   ]
  },
  {
   "cell_type": "code",
   "execution_count": null,
   "metadata": {
    "collapsed": true
   },
   "outputs": [],
   "source": [
    "# WHAT THE FUCK IS GOING ON. NO PREDICTIVE POWER NOW? MUST BE SOMETHING WRONG WITH THE PIPELINE\n",
    "# from sklearn.pipeline import Pipeline\n",
    "# from sklearn.feature_extraction import DictVectorizer\n",
    "\n",
    "# rfpipeline = Pipeline([('List2DictT',List2Dict_Transformer()), \n",
    "#                        ('DictVectorT',DictVectorizer()),\n",
    "#                        ('RFfit',RandomForestClassifier())])\n",
    "# rfpipeline.set_params(List2DictT__str_keys=['home_ownership','sub_grade'],\n",
    "#                       DictVectorT__sparse=False,\n",
    "#                       RFfit__n_estimators=1000,\n",
    "#                       RFfit__oob_score=True)\n",
    "# rfpipeline.fit(X_train,y_train)"
   ]
  },
  {
   "cell_type": "code",
   "execution_count": 234,
   "metadata": {
    "collapsed": true
   },
   "outputs": [],
   "source": [
    "X_train, X_test, y_train, y_test = train_test_split(X, y, test_size=0.33)\n"
   ]
  },
  {
   "cell_type": "code",
   "execution_count": 235,
   "metadata": {
    "collapsed": false
   },
   "outputs": [],
   "source": [
    "List2Dict_T =List2Dict_Transformer(str_keys=['home_ownership','sub_grade' ])\n",
    "List2Dict_T.fit(df[relevant])    \n",
    "X_dict= List2Dict_T.transform(df[relevant])\n",
    "\n",
    "from sklearn.feature_extraction import DictVectorizer\n",
    "DVect = DictVectorizer()\n",
    "DVect.fit(X_dict)\n",
    "X_vect = DVect.transform(X_dict)"
   ]
  },
  {
   "cell_type": "code",
   "execution_count": 212,
   "metadata": {
    "collapsed": false
   },
   "outputs": [
    {
     "data": {
      "text/plain": [
       "['annual_inc',\n",
       " 'dti',\n",
       " 'emp_length',\n",
       " 'fico_range_high',\n",
       " 'fico_range_low',\n",
       " 'home_ownership_ANY',\n",
       " 'home_ownership_MORTGAGE',\n",
       " 'home_ownership_NONE',\n",
       " 'home_ownership_OTHER',\n",
       " 'home_ownership_OWN',\n",
       " 'home_ownership_RENT',\n",
       " 'loan_amnt',\n",
       " 'open_acc',\n",
       " 'policy_code',\n",
       " 'pub_rec',\n",
       " 'sub_grade_A1',\n",
       " 'sub_grade_A2',\n",
       " 'sub_grade_A3',\n",
       " 'sub_grade_A4',\n",
       " 'sub_grade_A5',\n",
       " 'sub_grade_B1',\n",
       " 'sub_grade_B2',\n",
       " 'sub_grade_B3',\n",
       " 'sub_grade_B4',\n",
       " 'sub_grade_B5',\n",
       " 'sub_grade_C1',\n",
       " 'sub_grade_C2',\n",
       " 'sub_grade_C3',\n",
       " 'sub_grade_C4',\n",
       " 'sub_grade_C5',\n",
       " 'sub_grade_D1',\n",
       " 'sub_grade_D2',\n",
       " 'sub_grade_D3',\n",
       " 'sub_grade_D4',\n",
       " 'sub_grade_D5',\n",
       " 'sub_grade_E1',\n",
       " 'sub_grade_E2',\n",
       " 'sub_grade_E3',\n",
       " 'sub_grade_E4',\n",
       " 'sub_grade_E5',\n",
       " 'sub_grade_F1',\n",
       " 'sub_grade_F2',\n",
       " 'sub_grade_F3',\n",
       " 'sub_grade_F4',\n",
       " 'sub_grade_F5',\n",
       " 'sub_grade_G1',\n",
       " 'sub_grade_G2',\n",
       " 'sub_grade_G3',\n",
       " 'sub_grade_G4',\n",
       " 'sub_grade_G5',\n",
       " 'term',\n",
       " 'total_acc']"
      ]
     },
     "execution_count": 212,
     "metadata": {},
     "output_type": "execute_result"
    }
   ],
   "source": [
    "DVect.feature_names_"
   ]
  },
  {
   "cell_type": "code",
   "execution_count": 220,
   "metadata": {
    "collapsed": true
   },
   "outputs": [],
   "source": [
    "X_train, X_test, y_train, y_test = train_test_split(X_vect.toarray(), y, test_size=0.33)\n"
   ]
  },
  {
   "cell_type": "code",
   "execution_count": 229,
   "metadata": {
    "collapsed": false
   },
   "outputs": [
    {
     "data": {
      "text/plain": [
       "186937"
      ]
     },
     "execution_count": 229,
     "metadata": {},
     "output_type": "execute_result"
    }
   ],
   "source": [
    "len(X)"
   ]
  },
  {
   "cell_type": "code",
   "execution_count": 221,
   "metadata": {
    "collapsed": false
   },
   "outputs": [
    {
     "data": {
      "text/plain": [
       "RandomForestClassifier(bootstrap=True, class_weight=None, criterion='gini',\n",
       "            max_depth=None, max_features='auto', max_leaf_nodes=None,\n",
       "            min_samples_leaf=1, min_samples_split=2,\n",
       "            min_weight_fraction_leaf=0.0, n_estimators=100, n_jobs=1,\n",
       "            oob_score=True, random_state=None, verbose=0, warm_start=False)"
      ]
     },
     "execution_count": 221,
     "metadata": {},
     "output_type": "execute_result"
    }
   ],
   "source": [
    "#%%\n",
    "# Random forest regressor\n",
    "clf2 = RandomForestClassifier(n_estimators=100,                     # number of trees in the forest\n",
    "                        criterion='gini', max_depth=None, \n",
    "                        min_samples_split=2, min_samples_leaf=1,\n",
    "                        min_weight_fraction_leaf=0.0, max_features='auto',\n",
    "                        max_leaf_nodes=None, bootstrap=True, oob_score=True, \n",
    "                        n_jobs=1, random_state=None, verbose=0, \n",
    "                        warm_start=False, class_weight=None)\n",
    "# use the model to predict the k th data point\n",
    "clf2.fit(X_train, y_train)\n",
    "\n",
    "\n",
    "# clf2.fit(X_train, y_train)\n",
    "# clf2.fit(X_train, y_train==1)\n",
    "# import dill\n",
    "# with open('./rf_lendingclub_p.pkl', 'wb') as out_strm:\n",
    "#     dill.dump(clf2,out_strm)\n"
   ]
  },
  {
   "cell_type": "code",
   "execution_count": 222,
   "metadata": {
    "collapsed": true
   },
   "outputs": [],
   "source": [
    "y_proba_test = clf2.predict_proba(X_test)\n",
    "y_proba_train = clf2.predict_proba(X_train)\n",
    "\n",
    "y_pred_test = clf2.predict(X_test)\n",
    "y_pred_train = clf2.predict(X_train)"
   ]
  },
  {
   "cell_type": "code",
   "execution_count": null,
   "metadata": {
    "collapsed": true
   },
   "outputs": [],
   "source": [
    "y_pred_test= clf2.predict(X_test,y_test)"
   ]
  },
  {
   "cell_type": "code",
   "execution_count": null,
   "metadata": {
    "collapsed": true
   },
   "outputs": [],
   "source": []
  },
  {
   "cell_type": "code",
   "execution_count": 123,
   "metadata": {
    "collapsed": false
   },
   "outputs": [],
   "source": [
    "# y_prob=(rfpipeline.predict_proba(X_test))\n",
    "\n",
    "\n",
    "\n",
    "# List2Dict_T =List2Dict_Transformer(str_keys=['home_ownership','sub_grade' ])\n",
    "\n",
    "# List2Dict_T.fit(df[relevant])    \n",
    "# X_dict= List2Dict_T.transform(df[relevant])\n",
    "\n",
    "# from sklearn.feature_extraction import DictVectorizer\n",
    "# DVect = DictVectorizer()\n",
    "# DVect.fit(X_dict)\n",
    "# X_vect = DVect.transform(X_dict)"
   ]
  },
  {
   "cell_type": "code",
   "execution_count": 148,
   "metadata": {
    "collapsed": false
   },
   "outputs": [
    {
     "data": {
      "text/html": [
       "<div>\n",
       "<table border=\"1\" class=\"dataframe\">\n",
       "  <thead>\n",
       "    <tr style=\"text-align: right;\">\n",
       "      <th></th>\n",
       "      <th>annual_inc</th>\n",
       "      <th>dti</th>\n",
       "      <th>emp_length</th>\n",
       "      <th>fico_range_high</th>\n",
       "      <th>fico_range_low</th>\n",
       "      <th>home_ownership</th>\n",
       "      <th>loan_amnt</th>\n",
       "      <th>open_acc</th>\n",
       "      <th>policy_code</th>\n",
       "      <th>pub_rec</th>\n",
       "      <th>sub_grade</th>\n",
       "      <th>term</th>\n",
       "      <th>total_acc</th>\n",
       "    </tr>\n",
       "  </thead>\n",
       "  <tbody>\n",
       "    <tr>\n",
       "      <th>0</th>\n",
       "      <td>Annual Income</td>\n",
       "      <td>Debt to Income ratio</td>\n",
       "      <td>Employment length</td>\n",
       "      <td>Fico Score (High)</td>\n",
       "      <td>Fico Score (Low)</td>\n",
       "      <td>House Ownership</td>\n",
       "      <td>Total Loan Amount</td>\n",
       "      <td>Number of credit lines currently open</td>\n",
       "      <td>Polic code</td>\n",
       "      <td>Public record</td>\n",
       "      <td>Grade assigned by Lending Club</td>\n",
       "      <td>Term</td>\n",
       "      <td>Total credit lines</td>\n",
       "    </tr>\n",
       "  </tbody>\n",
       "</table>\n",
       "</div>"
      ],
      "text/plain": [
       "      annual_inc                   dti         emp_length    fico_range_high  \\\n",
       "0  Annual Income  Debt to Income ratio  Employment length  Fico Score (High)   \n",
       "\n",
       "     fico_range_low   home_ownership          loan_amnt  \\\n",
       "0  Fico Score (Low)  House Ownership  Total Loan Amount   \n",
       "\n",
       "                                open_acc policy_code        pub_rec  \\\n",
       "0  Number of credit lines currently open  Polic code  Public record   \n",
       "\n",
       "                        sub_grade  term           total_acc  \n",
       "0  Grade assigned by Lending Club  Term  Total credit lines  "
      ]
     },
     "execution_count": 148,
     "metadata": {},
     "output_type": "execute_result"
    }
   ],
   "source": [
    "# single recode example\n",
    "# try whether pandas like dict or not\n",
    "RequiredDict = {'sub_grade':'Grade assigned by Lending Club',\n",
    "                'term':'Term',\n",
    "                'fico_range_low': 'Fico Score (Low)',\n",
    "                'fico_range_high':'Fico Score (High)',\n",
    "                'loan_amnt':'Total Loan Amount',\n",
    "                'annual_inc': 'Annual Income',\n",
    "                'dti':'Debt to Income ratio',\n",
    "                'emp_length':'Employment length',\n",
    "                'open_acc':'Number of credit lines currently open',\n",
    "                'total_acc':'Total credit lines',\n",
    "                'pub_rec':'Public record',\n",
    "                'policy_code':'Polic code',\n",
    "                'home_ownership':'House Ownership'}\n",
    "record = pd.DataFrame(RequiredDict,index=[0])\n"
   ]
  },
  {
   "cell_type": "code",
   "execution_count": 13,
   "metadata": {
    "collapsed": false
   },
   "outputs": [
    {
     "name": "stdout",
     "output_type": "stream",
     "text": [
      "Index([u'annual_inc', u'dti', u'emp_length', u'fico_range_high',\n",
      "       u'fico_range_low', u'loan_amnt', u'open_acc', u'policy_code',\n",
      "       u'pub_rec', u'term', u'total_acc', u'home_ownership_ANY',\n",
      "       u'home_ownership_MORTGAGE', u'home_ownership_NONE',\n",
      "       u'home_ownership_OTHER', u'home_ownership_OWN', u'home_ownership_RENT',\n",
      "       u'sub_grade_A1', u'sub_grade_A2', u'sub_grade_A3', u'sub_grade_A4',\n",
      "       u'sub_grade_A5', u'sub_grade_B1', u'sub_grade_B2', u'sub_grade_B3',\n",
      "       u'sub_grade_B4', u'sub_grade_B5', u'sub_grade_C1', u'sub_grade_C2',\n",
      "       u'sub_grade_C3', u'sub_grade_C4', u'sub_grade_C5', u'sub_grade_D1',\n",
      "       u'sub_grade_D2', u'sub_grade_D3', u'sub_grade_D4', u'sub_grade_D5',\n",
      "       u'sub_grade_E1', u'sub_grade_E2', u'sub_grade_E3', u'sub_grade_E4',\n",
      "       u'sub_grade_E5', u'sub_grade_F1', u'sub_grade_F2', u'sub_grade_F3',\n",
      "       u'sub_grade_F4', u'sub_grade_F5', u'sub_grade_G1', u'sub_grade_G2',\n",
      "       u'sub_grade_G3', u'sub_grade_G4', u'sub_grade_G5'],\n",
      "      dtype='object')\n"
     ]
    }
   ],
   "source": [
    "pd.unique(tot_feat.emp_length)\n",
    "tot_feat_vec = pd.get_dummies(tot_feat)\n",
    "print tot_feat_vec.columns"
   ]
  },
  {
   "cell_type": "code",
   "execution_count": null,
   "metadata": {
    "collapsed": true
   },
   "outputs": [],
   "source": []
  },
  {
   "cell_type": "code",
   "execution_count": null,
   "metadata": {
    "collapsed": true
   },
   "outputs": [],
   "source": []
  },
  {
   "cell_type": "code",
   "execution_count": null,
   "metadata": {
    "collapsed": true
   },
   "outputs": [],
   "source": []
  },
  {
   "cell_type": "code",
   "execution_count": null,
   "metadata": {
    "collapsed": true
   },
   "outputs": [],
   "source": []
  },
  {
   "cell_type": "code",
   "execution_count": 14,
   "metadata": {
    "collapsed": false
   },
   "outputs": [],
   "source": [
    "# Expore what is missing. Most of them is emp_info, \n",
    "# which is likely corresponding to unemployment rate\n",
    "# So let us supply it with -1.\n",
    "\n",
    "\n",
    "#######################\n",
    "# keys =df.columns\n",
    "# miss = []\n",
    "# for key in keys:\n",
    "#     if 'n/a' in pd.unique(df[key]):\n",
    "#         miss.append(key)\n",
    "# print miss        \n",
    "# # ['emp_title', 'emp_length', 'desc', 'title']\n",
    "    "
   ]
  },
  {
   "cell_type": "code",
   "execution_count": 15,
   "metadata": {
    "collapsed": false
   },
   "outputs": [],
   "source": [
    "# tot_feat.emp_length[np.isnan(tot_feat.emp_length.astype('float'))] = (tot_feat.emp_length[~np.isnan(tot_feat.emp_length.astype('float'))]).median()\n",
    "\n",
    "# tot_feat.emp_length = pd.Series(tot_feat.emp_length.astype('int'))"
   ]
  },
  {
   "cell_type": "code",
   "execution_count": 16,
   "metadata": {
    "collapsed": false
   },
   "outputs": [],
   "source": [
    "# So far the filling nans is using global median, which is can be improved \n",
    "# use the relevant median instead. Removing the irrelavant information.\n",
    "# To do so, let me explore what has nan. \n",
    "## Explore, which field has nan.\n",
    "# keys =tot_feat.columns\n",
    "# miss = []\n",
    "# for key in keys:\n",
    "#     print (pd.unique(tot_feat[key]))\n",
    "\n",
    "# ONLY EMPLOYMENT AND DESC have NAN"
   ]
  },
  {
   "cell_type": "code",
   "execution_count": null,
   "metadata": {
    "collapsed": false
   },
   "outputs": [],
   "source": []
  },
  {
   "cell_type": "code",
   "execution_count": 17,
   "metadata": {
    "collapsed": false
   },
   "outputs": [
    {
     "data": {
      "text/plain": [
       "Index([u'annual_inc', u'dti', u'emp_length', u'fico_range_high',\n",
       "       u'fico_range_low', u'loan_amnt', u'open_acc', u'policy_code',\n",
       "       u'pub_rec', u'term', u'total_acc', u'home_ownership_ANY',\n",
       "       u'home_ownership_MORTGAGE', u'home_ownership_NONE',\n",
       "       u'home_ownership_OTHER', u'home_ownership_OWN', u'home_ownership_RENT',\n",
       "       u'sub_grade_A1', u'sub_grade_A2', u'sub_grade_A3', u'sub_grade_A4',\n",
       "       u'sub_grade_A5', u'sub_grade_B1', u'sub_grade_B2', u'sub_grade_B3',\n",
       "       u'sub_grade_B4', u'sub_grade_B5', u'sub_grade_C1', u'sub_grade_C2',\n",
       "       u'sub_grade_C3', u'sub_grade_C4', u'sub_grade_C5', u'sub_grade_D1',\n",
       "       u'sub_grade_D2', u'sub_grade_D3', u'sub_grade_D4', u'sub_grade_D5',\n",
       "       u'sub_grade_E1', u'sub_grade_E2', u'sub_grade_E3', u'sub_grade_E4',\n",
       "       u'sub_grade_E5', u'sub_grade_F1', u'sub_grade_F2', u'sub_grade_F3',\n",
       "       u'sub_grade_F4', u'sub_grade_F5', u'sub_grade_G1', u'sub_grade_G2',\n",
       "       u'sub_grade_G3', u'sub_grade_G4', u'sub_grade_G5'],\n",
       "      dtype='object')"
      ]
     },
     "execution_count": 17,
     "metadata": {},
     "output_type": "execute_result"
    }
   ],
   "source": [
    "tot_feat_vec.columns"
   ]
  },
  {
   "cell_type": "code",
   "execution_count": null,
   "metadata": {
    "collapsed": false
   },
   "outputs": [],
   "source": []
  },
  {
   "cell_type": "code",
   "execution_count": null,
   "metadata": {
    "collapsed": true
   },
   "outputs": [],
   "source": []
  },
  {
   "cell_type": "code",
   "execution_count": null,
   "metadata": {
    "collapsed": true
   },
   "outputs": [],
   "source": []
  },
  {
   "cell_type": "code",
   "execution_count": null,
   "metadata": {
    "collapsed": false
   },
   "outputs": [],
   "source": []
  },
  {
   "cell_type": "code",
   "execution_count": null,
   "metadata": {
    "collapsed": true
   },
   "outputs": [],
   "source": []
  },
  {
   "cell_type": "code",
   "execution_count": null,
   "metadata": {
    "collapsed": true
   },
   "outputs": [],
   "source": []
  },
  {
   "cell_type": "code",
   "execution_count": null,
   "metadata": {
    "collapsed": false
   },
   "outputs": [],
   "source": []
  },
  {
   "cell_type": "code",
   "execution_count": 18,
   "metadata": {
    "collapsed": true
   },
   "outputs": [],
   "source": [
    "X = tot_feat_vec\n",
    "y = tot_labl\n",
    "y[y == -1] =0.0"
   ]
  },
  {
   "cell_type": "code",
   "execution_count": 19,
   "metadata": {
    "collapsed": false
   },
   "outputs": [],
   "source": [
    "from sklearn.cross_validation import train_test_split\n",
    "X_train, X_test, y_train, y_test = train_test_split(X, y, test_size=0.33)\n",
    "\n",
    " "
   ]
  },
  {
   "cell_type": "code",
   "execution_count": null,
   "metadata": {
    "collapsed": false
   },
   "outputs": [],
   "source": []
  },
  {
   "cell_type": "code",
   "execution_count": null,
   "metadata": {
    "collapsed": false
   },
   "outputs": [],
   "source": []
  },
  {
   "cell_type": "code",
   "execution_count": 21,
   "metadata": {
    "collapsed": false
   },
   "outputs": [
    {
     "name": "stdout",
     "output_type": "stream",
     "text": [
      "[('dti', 0.14921630604716682), ('annual_inc', 0.13258534033034525), ('loan_amnt', 0.12275184415376111), ('total_acc', 0.11382579484136307), ('open_acc', 0.096341302023195824), ('emp_length', 0.077147956277889146), ('fico_range_high', 0.054979184170717704), ('fico_range_low', 0.054523177401007601), ('term', 0.018518013685362329), ('pub_rec', 0.013381435856131692), ('home_ownership_RENT', 0.010406800454035321), ('home_ownership_MORTGAGE', 0.0099205152708521944), ('sub_grade_C4', 0.0073455739945508317), ('sub_grade_C3', 0.0073357408640482499), ('home_ownership_OWN', 0.0073034609276571173), ('sub_grade_C5', 0.0072360374067525646), ('sub_grade_C2', 0.0070448024670123456), ('sub_grade_C1', 0.006927868671440093), ('sub_grade_D1', 0.0065411206857874261), ('sub_grade_D2', 0.0063408303368668517), ('sub_grade_B4', 0.006208506207513299), ('sub_grade_D3', 0.0060826141391949994), ('sub_grade_B5', 0.005979251384428493), ('sub_grade_D4', 0.0059135084532431484), ('sub_grade_D5', 0.0056830201211188758), ('sub_grade_B3', 0.0054177456825150183), ('sub_grade_E2', 0.0046430581686918307), ('sub_grade_E1', 0.0045794502503105688), ('sub_grade_B2', 0.0043955982677777511), ('sub_grade_E3', 0.0040077432000726601), ('sub_grade_B1', 0.003762320169615428), ('sub_grade_E4', 0.0036471856891856086), ('sub_grade_E5', 0.0036116273100459677), ('sub_grade_F1', 0.0029879152006349672), ('sub_grade_A5', 0.0029445813442733463), ('sub_grade_F3', 0.0026593578673591383), ('sub_grade_F2', 0.0025948251440647686), ('sub_grade_A4', 0.0024384195615901869), ('sub_grade_F4', 0.0022090581923741902), ('sub_grade_F5', 0.0019723659399025172), ('sub_grade_A3', 0.0015914156742543116), ('sub_grade_G1', 0.001325680111641982), ('sub_grade_A2', 0.0012722069297096171), ('sub_grade_A1', 0.0012386890546524406), ('sub_grade_G2', 0.0010100040764477575), ('sub_grade_G3', 0.00069210656991386703), ('sub_grade_G5', 0.00054722492218517319), ('sub_grade_G4', 0.00049823366252502329), ('home_ownership_OTHER', 0.00031166013652643437), ('home_ownership_NONE', 0.00010101741035176381), ('home_ownership_ANY', 5.0329193543388276e-07), ('policy_code', 0.0)]\n"
     ]
    }
   ],
   "source": [
    "importance=[(tot_feat_vec.columns[i],clf2.feature_importances_[i]) for i in xrange(len(clf2.feature_importances_))]\n",
    "\n",
    "importance = sorted(importance,key = lambda tup:tup[1],reverse=True)\n",
    "print importance"
   ]
  },
  {
   "cell_type": "code",
   "execution_count": 35,
   "metadata": {
    "collapsed": false
   },
   "outputs": [
    {
     "data": {
      "text/plain": [
       "(186937, 27)"
      ]
     },
     "execution_count": 35,
     "metadata": {},
     "output_type": "execute_result"
    }
   ],
   "source": [
    "tot_feat_vec.shape"
   ]
  },
  {
   "cell_type": "code",
   "execution_count": 158,
   "metadata": {
    "collapsed": true
   },
   "outputs": [],
   "source": [
    "y_pred = clf2.predict(tot_feat_vec)"
   ]
  },
  {
   "cell_type": "code",
   "execution_count": 165,
   "metadata": {
    "collapsed": true
   },
   "outputs": [],
   "source": [
    "tot_labl[tot_labl == -1] =0\n",
    "Hits = sum(tot_labl[y_pred==1])\n",
    "FalseAlarm = len(tot_labl[y_pred==1]) - Hits\n",
    "Miss = sum(tot_labl[y_pred == 0])\n",
    "CorrectRejection = len(tot_labl[y_pred == 0]) - Miss\n"
   ]
  },
  {
   "cell_type": "code",
   "execution_count": 13,
   "metadata": {
    "collapsed": false
   },
   "outputs": [],
   "source": [
    "# get the probability from the random forest\n",
    "import dill\n",
    "with open('./rf_lendingclub_p.pkl', 'rb') as in_strm:\n",
    "    clf2 = dill.load(in_strm)\n"
   ]
  },
  {
   "cell_type": "code",
   "execution_count": 42,
   "metadata": {
    "collapsed": false
   },
   "outputs": [],
   "source": [
    "ap=clf2.predict_proba(tot_feat_vec)"
   ]
  },
  {
   "cell_type": "code",
   "execution_count": 44,
   "metadata": {
    "collapsed": false
   },
   "outputs": [
    {
     "data": {
      "image/png": "[encoded data removed]",
      "text/plain": [
       "<matplotlib.figure.Figure at 0x10f5a2190>"
      ]
     },
     "metadata": {},
     "output_type": "display_data"
    }
   ],
   "source": [
    "import matplotlib.pyplot as plt\n",
    "plt.hist(ap[:,1])\n",
    "plt.show()"
   ]
  },
  {
   "cell_type": "code",
   "execution_count": null,
   "metadata": {
    "collapsed": true
   },
   "outputs": [],
   "source": []
  },
  {
   "cell_type": "code",
   "execution_count": 205,
   "metadata": {
    "collapsed": false
   },
   "outputs": [
    {
     "data": {
      "text/plain": [
       "(56943, 186937)"
      ]
     },
     "execution_count": 205,
     "metadata": {},
     "output_type": "execute_result"
    }
   ],
   "source": [
    "LabelB = full.stat[full.grade=='B']\n",
    "y_pred = np.array(y_pred)\n",
    "\n",
    "len(y_predB),len(y_pred)"
   ]
  },
  {
   "cell_type": "code",
   "execution_count": 239,
   "metadata": {
    "collapsed": false
   },
   "outputs": [
    {
     "name": "stdout",
     "output_type": "stream",
     "text": [
      "False alarm, should NOT have FUNDED ------- 0.529396290938\n",
      "Missing, should have FUNDED --------------- 6.7081935793\n",
      "Default rate ------------------------------ 6.48635342626\n",
      "False alarm, should NOT have FUNDED ------- 0.454064324506\n",
      "Missing, should have FUNDED --------------- 5.39836689138\n",
      "Default rate ------------------------------ 6.24525867511\n"
     ]
    }
   ],
   "source": [
    "# tot_labl[tot_labl == -1] =0\n",
    "Grader = 'A'\n",
    "LabelB = full.stat[full['grade']==Grader]\n",
    "y_predB = y_pred[np.array(full.grade==Grader)]\n",
    "\n",
    "money = full.loan_amnt[full.grade==Grader]\n",
    "\n",
    "#\n",
    "LabelB[LabelB==-1] = 0\n",
    "\n",
    "\n",
    "Hits = sum(LabelB[y_predB==1])\n",
    "FalseAlarm = len(LabelB[y_predB==1]) - Hits\n",
    "Miss = sum(LabelB[y_predB == 0])\n",
    "CorrectRejection = len(LabelB[y_predB == 0]) - Miss\n",
    "\n",
    "print 'False alarm, should NOT have FUNDED -------',FalseAlarm*100.0/(Hits + FalseAlarm)\n",
    "print 'Missing, should have FUNDED ---------------',Miss*100.0/(CorrectRejection + Miss)\n",
    "print 'Default rate ------------------------------',(FalseAlarm + CorrectRejection)*100 / len(LabelB)\n",
    "\n",
    "HitsMoney = sum(LabelB[y_predB==1]*money[y_predB==1])\n",
    "FalseAlarmMoney = sum(money[y_predB==1]) - HitsMoney\n",
    "MissMoney = sum(LabelB[y_predB == 0]*money[y_predB==0])\n",
    "CorrectRejectionMoney = sum(money[y_predB == 0]) - MissMoney\n",
    "\n",
    "print 'False alarm, should NOT have FUNDED -------',FalseAlarmMoney*100.0/(HitsMoney + FalseAlarmMoney)\n",
    "print 'Missing, should have FUNDED ---------------',MissMoney*100.0/(CorrectRejectionMoney + MissMoney)\n",
    "print 'Default rate ------------------------------',(FalseAlarmMoney + CorrectRejectionMoney)*100 / sum(money)"
   ]
  },
  {
   "cell_type": "code",
   "execution_count": 229,
   "metadata": {
    "collapsed": false
   },
   "outputs": [
    {
     "name": "stdout",
     "output_type": "stream",
     "text": [
      " False alarm, should NOT have FUNDED ------- 0.788355076854\n",
      "Missing, should have FUNDED --------------- 5.02276875905\n",
      "Default rate ------------------------------"
     ]
    },
    {
     "ename": "NameError",
     "evalue": "name 'LabelBMoney' is not defined",
     "output_type": "error",
     "traceback": [
      "\u001b[0;31m---------------------------------------------------------------------------\u001b[0m",
      "\u001b[0;31mNameError\u001b[0m                                 Traceback (most recent call last)",
      "\u001b[0;32m<ipython-input-229-d3eb311ccfbf>\u001b[0m in \u001b[0;36m<module>\u001b[0;34m()\u001b[0m\n\u001b[1;32m      5\u001b[0m \u001b[0;32mprint\u001b[0m \u001b[0;34m'False alarm, should NOT have FUNDED -------'\u001b[0m\u001b[0;34m,\u001b[0m\u001b[0mFalseAlarmMoney\u001b[0m\u001b[0;34m*\u001b[0m\u001b[0;36m100.0\u001b[0m\u001b[0;34m/\u001b[0m\u001b[0;34m(\u001b[0m\u001b[0mHitsMoney\u001b[0m \u001b[0;34m+\u001b[0m \u001b[0mFalseAlarmMoney\u001b[0m\u001b[0;34m)\u001b[0m\u001b[0;34m\u001b[0m\u001b[0m\n\u001b[1;32m      6\u001b[0m \u001b[0;32mprint\u001b[0m \u001b[0;34m'Missing, should have FUNDED ---------------'\u001b[0m\u001b[0;34m,\u001b[0m\u001b[0mMissMoney\u001b[0m\u001b[0;34m*\u001b[0m\u001b[0;36m100.0\u001b[0m\u001b[0;34m/\u001b[0m\u001b[0;34m(\u001b[0m\u001b[0mCorrectRejectionMoney\u001b[0m \u001b[0;34m+\u001b[0m \u001b[0mMissMoney\u001b[0m\u001b[0;34m)\u001b[0m\u001b[0;34m\u001b[0m\u001b[0m\n\u001b[0;32m----> 7\u001b[0;31m \u001b[0;32mprint\u001b[0m \u001b[0;34m'Default rate ------------------------------'\u001b[0m\u001b[0;34m,\u001b[0m\u001b[0;34m(\u001b[0m\u001b[0mFalseAlarmMoney\u001b[0m \u001b[0;34m+\u001b[0m \u001b[0mCorrectRejectionMoney\u001b[0m\u001b[0;34m)\u001b[0m\u001b[0;34m*\u001b[0m\u001b[0;36m100\u001b[0m \u001b[0;34m/\u001b[0m \u001b[0mlen\u001b[0m\u001b[0;34m(\u001b[0m\u001b[0mLabelBMoney\u001b[0m\u001b[0;34m)\u001b[0m\u001b[0;34m\u001b[0m\u001b[0m\n\u001b[0m",
      "\u001b[0;31mNameError\u001b[0m: name 'LabelBMoney' is not defined"
     ]
    }
   ],
   "source": [
    "HitsMoney = sum(LabelB[y_predB==1]*money[y_predB==1])\n",
    "FalseAlarmMoney = sum(money[y_predB==1]) - HitsMoney\n",
    "MissMoney = sum(LabelB[y_predB == 0]*money[y_predB==0])\n",
    "CorrectRejectionMoney = sum(money[y_predB == 0]) - MissMoney\n",
    "print 'False alarm, should NOT have FUNDED -------',FalseAlarmMoney*100.0/(HitsMoney + FalseAlarmMoney)\n",
    "print 'Missing, should have FUNDED ---------------',MissMoney*100.0/(CorrectRejectionMoney + MissMoney)\n",
    "print 'Default rate ------------------------------',(FalseAlarmMoney + CorrectRejectionMoney)*100 / len(LabelBMoney)"
   ]
  },
  {
   "cell_type": "code",
   "execution_count": 252,
   "metadata": {
    "collapsed": false
   },
   "outputs": [
    {
     "data": {
      "image/png": "[encoded data removed]",
      "text/html": [
       "\n",
       "\n",
       "<style>\n",
       "\n",
       "</style>\n",
       "\n",
       "<div id=\"fig_el1406150854156326317040972\"></div>\n",
       "<script>\n",
       "function mpld3_load_lib(url, callback){\n",
       "  var s = document.createElement('script');\n",
       "  s.src = url;\n",
       "  s.async = true;\n",
       "  s.onreadystatechange = s.onload = callback;\n",
       "  s.onerror = function(){console.warn(\"failed to load library \" + url);};\n",
       "  document.getElementsByTagName(\"head\")[0].appendChild(s);\n",
       "}\n",
       "\n",
       "if(typeof(mpld3) !== \"undefined\" && mpld3._mpld3IsLoaded){\n",
       "   // already loaded: just create the figure\n",
       "   !function(mpld3){\n",
       "       \n",
       "       mpld3.draw_figure(\"fig_el1406150854156326317040972\", {\"axes\": [{\"xlim\": [0.0, 30.0], \"yscale\": \"linear\", \"axesbg\": \"#EAEAF2\", \"texts\": [], \"zoomable\": true, \"images\": [], \"xdomain\": [0.0, 30.0], \"ylim\": [0.0, 0.40000000000000002], \"paths\": [], \"sharey\": [], \"sharex\": [], \"axesbgalpha\": null, \"axes\": [{\"scale\": \"linear\", \"tickformat\": null, \"grid\": {\"color\": \"#FFFFFF\", \"alpha\": 1.0, \"dasharray\": \"10,0\", \"gridOn\": true}, \"fontsize\": 10.0, \"position\": \"bottom\", \"nticks\": 7, \"tickvalues\": null}, {\"scale\": \"linear\", \"tickformat\": null, \"grid\": {\"color\": \"#FFFFFF\", \"alpha\": 1.0, \"dasharray\": \"10,0\", \"gridOn\": true}, \"fontsize\": 10.0, \"position\": \"left\", \"nticks\": 10, \"tickvalues\": null}], \"lines\": [{\"color\": \"#4C72B0\", \"yindex\": 1, \"coordinates\": \"data\", \"dasharray\": \"10,0\", \"zorder\": 2, \"alpha\": 1, \"xindex\": 0, \"linewidth\": 1.75, \"data\": \"data01\", \"id\": \"el140615585350288\"}], \"markers\": [], \"id\": \"el140615583454352\", \"ydomain\": [0.0, 0.40000000000000002], \"collections\": [], \"xscale\": \"linear\", \"bbox\": [0.125, 0.125, 0.77500000000000002, 0.77500000000000002]}], \"height\": 320.0, \"width\": 480.0, \"plugins\": [{\"type\": \"reset\"}, {\"enabled\": false, \"button\": true, \"type\": \"zoom\"}, {\"enabled\": false, \"button\": true, \"type\": \"boxzoom\"}], \"data\": {\"data01\": [[0.0, 0.0337271048156014], [1.0, 0.03877413725117165], [2.0, 0.017706655750006284], [3.0, 0.019299034581610995], [4.0, 0.019655878594017302], [5.0, 0.3788700522521705], [6.0, 0.3552881598546252], [7.0, 0.03717640153312733], [8.0, 0.023197600253858613], [9.0, 0.0], [10.0, 0.00431217210688055], [11.0, 0.029974447095367833], [12.0, 0.002942356952621716], [13.0, 0.0036367594115479774], [14.0, 0.0037676161805019776], [15.0, 0.003797516364670234], [16.0, 0.003022119276032601], [17.0, 0.0016950650867930631], [18.0, 0.0004851128725804909], [19.0, 4.0418511541697646e-08], [20.0, 0.003975210535853249], [21.0, 2.7797190034823267e-05], [22.0, 3.485610372231539e-05], [23.0, 0.0024745321125227487], [24.0, 0.004102982430411774], [25.0, 0.006459649405448099], [26.0, 0.005596741570309759]]}, \"id\": \"el140615085415632\"});\n",
       "   }(mpld3);\n",
       "}else if(typeof define === \"function\" && define.amd){\n",
       "   // require.js is available: use it to load d3/mpld3\n",
       "   require.config({paths: {d3: \"https://mpld3.github.io/js/d3.v3.min\"}});\n",
       "   require([\"d3\"], function(d3){\n",
       "      window.d3 = d3;\n",
       "      mpld3_load_lib(\"https://mpld3.github.io/js/mpld3.v0.2.js\", function(){\n",
       "         \n",
       "         mpld3.draw_figure(\"fig_el1406150854156326317040972\", {\"axes\": [{\"xlim\": [0.0, 30.0], \"yscale\": \"linear\", \"axesbg\": \"#EAEAF2\", \"texts\": [], \"zoomable\": true, \"images\": [], \"xdomain\": [0.0, 30.0], \"ylim\": [0.0, 0.40000000000000002], \"paths\": [], \"sharey\": [], \"sharex\": [], \"axesbgalpha\": null, \"axes\": [{\"scale\": \"linear\", \"tickformat\": null, \"grid\": {\"color\": \"#FFFFFF\", \"alpha\": 1.0, \"dasharray\": \"10,0\", \"gridOn\": true}, \"fontsize\": 10.0, \"position\": \"bottom\", \"nticks\": 7, \"tickvalues\": null}, {\"scale\": \"linear\", \"tickformat\": null, \"grid\": {\"color\": \"#FFFFFF\", \"alpha\": 1.0, \"dasharray\": \"10,0\", \"gridOn\": true}, \"fontsize\": 10.0, \"position\": \"left\", \"nticks\": 10, \"tickvalues\": null}], \"lines\": [{\"color\": \"#4C72B0\", \"yindex\": 1, \"coordinates\": \"data\", \"dasharray\": \"10,0\", \"zorder\": 2, \"alpha\": 1, \"xindex\": 0, \"linewidth\": 1.75, \"data\": \"data01\", \"id\": \"el140615585350288\"}], \"markers\": [], \"id\": \"el140615583454352\", \"ydomain\": [0.0, 0.40000000000000002], \"collections\": [], \"xscale\": \"linear\", \"bbox\": [0.125, 0.125, 0.77500000000000002, 0.77500000000000002]}], \"height\": 320.0, \"width\": 480.0, \"plugins\": [{\"type\": \"reset\"}, {\"enabled\": false, \"button\": true, \"type\": \"zoom\"}, {\"enabled\": false, \"button\": true, \"type\": \"boxzoom\"}], \"data\": {\"data01\": [[0.0, 0.0337271048156014], [1.0, 0.03877413725117165], [2.0, 0.017706655750006284], [3.0, 0.019299034581610995], [4.0, 0.019655878594017302], [5.0, 0.3788700522521705], [6.0, 0.3552881598546252], [7.0, 0.03717640153312733], [8.0, 0.023197600253858613], [9.0, 0.0], [10.0, 0.00431217210688055], [11.0, 0.029974447095367833], [12.0, 0.002942356952621716], [13.0, 0.0036367594115479774], [14.0, 0.0037676161805019776], [15.0, 0.003797516364670234], [16.0, 0.003022119276032601], [17.0, 0.0016950650867930631], [18.0, 0.0004851128725804909], [19.0, 4.0418511541697646e-08], [20.0, 0.003975210535853249], [21.0, 2.7797190034823267e-05], [22.0, 3.485610372231539e-05], [23.0, 0.0024745321125227487], [24.0, 0.004102982430411774], [25.0, 0.006459649405448099], [26.0, 0.005596741570309759]]}, \"id\": \"el140615085415632\"});\n",
       "      });\n",
       "    });\n",
       "}else{\n",
       "    // require.js not available: dynamically load d3 & mpld3\n",
       "    mpld3_load_lib(\"https://mpld3.github.io/js/d3.v3.min.js\", function(){\n",
       "         mpld3_load_lib(\"https://mpld3.github.io/js/mpld3.v0.2.js\", function(){\n",
       "                 \n",
       "                 mpld3.draw_figure(\"fig_el1406150854156326317040972\", {\"axes\": [{\"xlim\": [0.0, 30.0], \"yscale\": \"linear\", \"axesbg\": \"#EAEAF2\", \"texts\": [], \"zoomable\": true, \"images\": [], \"xdomain\": [0.0, 30.0], \"ylim\": [0.0, 0.40000000000000002], \"paths\": [], \"sharey\": [], \"sharex\": [], \"axesbgalpha\": null, \"axes\": [{\"scale\": \"linear\", \"tickformat\": null, \"grid\": {\"color\": \"#FFFFFF\", \"alpha\": 1.0, \"dasharray\": \"10,0\", \"gridOn\": true}, \"fontsize\": 10.0, \"position\": \"bottom\", \"nticks\": 7, \"tickvalues\": null}, {\"scale\": \"linear\", \"tickformat\": null, \"grid\": {\"color\": \"#FFFFFF\", \"alpha\": 1.0, \"dasharray\": \"10,0\", \"gridOn\": true}, \"fontsize\": 10.0, \"position\": \"left\", \"nticks\": 10, \"tickvalues\": null}], \"lines\": [{\"color\": \"#4C72B0\", \"yindex\": 1, \"coordinates\": \"data\", \"dasharray\": \"10,0\", \"zorder\": 2, \"alpha\": 1, \"xindex\": 0, \"linewidth\": 1.75, \"data\": \"data01\", \"id\": \"el140615585350288\"}], \"markers\": [], \"id\": \"el140615583454352\", \"ydomain\": [0.0, 0.40000000000000002], \"collections\": [], \"xscale\": \"linear\", \"bbox\": [0.125, 0.125, 0.77500000000000002, 0.77500000000000002]}], \"height\": 320.0, \"width\": 480.0, \"plugins\": [{\"type\": \"reset\"}, {\"enabled\": false, \"button\": true, \"type\": \"zoom\"}, {\"enabled\": false, \"button\": true, \"type\": \"boxzoom\"}], \"data\": {\"data01\": [[0.0, 0.0337271048156014], [1.0, 0.03877413725117165], [2.0, 0.017706655750006284], [3.0, 0.019299034581610995], [4.0, 0.019655878594017302], [5.0, 0.3788700522521705], [6.0, 0.3552881598546252], [7.0, 0.03717640153312733], [8.0, 0.023197600253858613], [9.0, 0.0], [10.0, 0.00431217210688055], [11.0, 0.029974447095367833], [12.0, 0.002942356952621716], [13.0, 0.0036367594115479774], [14.0, 0.0037676161805019776], [15.0, 0.003797516364670234], [16.0, 0.003022119276032601], [17.0, 0.0016950650867930631], [18.0, 0.0004851128725804909], [19.0, 4.0418511541697646e-08], [20.0, 0.003975210535853249], [21.0, 2.7797190034823267e-05], [22.0, 3.485610372231539e-05], [23.0, 0.0024745321125227487], [24.0, 0.004102982430411774], [25.0, 0.006459649405448099], [26.0, 0.005596741570309759]]}, \"id\": \"el140615085415632\"});\n",
       "            })\n",
       "         });\n",
       "}\n",
       "</script>"
      ],
      "text/plain": [
       "<matplotlib.figure.Figure at 0x12f1d48d0>"
      ]
     },
     "metadata": {},
     "output_type": "display_data"
    }
   ],
   "source": [
    "import matplotlib.pyplot as plt \n",
    "plt.figure\n",
    "# plt.subplot(221)\n",
    "plt.plot(clf2.feature_importances_)\n",
    "# # plt.show()\n",
    "# plt.subplot(222)\n",
    "# plt.plot(clf2.feature_importances_)\n",
    "plt.show()"
   ]
  },
  {
   "cell_type": "code",
   "execution_count": 131,
   "metadata": {
    "collapsed": false
   },
   "outputs": [],
   "source": [
    "y_pred=clf2.predict(X_test)\n"
   ]
  },
  {
   "cell_type": "code",
   "execution_count": null,
   "metadata": {
    "collapsed": false
   },
   "outputs": [],
   "source": []
  },
  {
   "cell_type": "code",
   "execution_count": null,
   "metadata": {
    "collapsed": true
   },
   "outputs": [],
   "source": []
  },
  {
   "cell_type": "code",
   "execution_count": null,
   "metadata": {
    "collapsed": true
   },
   "outputs": [],
   "source": []
  },
  {
   "cell_type": "code",
   "execution_count": null,
   "metadata": {
    "collapsed": true
   },
   "outputs": [],
   "source": []
  },
  {
   "cell_type": "code",
   "execution_count": 89,
   "metadata": {
    "collapsed": false
   },
   "outputs": [],
   "source": [
    "cnt = 0\n",
    "baseline = 0\n",
    "for i in xrange(len(y_test)):\n",
    "    if y_test.iloc[i] == 1:\n",
    "        baseline += 1\n",
    "        if y_pred[i]:\n",
    "            cnt += 1\n",
    "    elif y_test.iloc[i] == -1 and not y_pred[i]:\n",
    "        cnt += 1\n",
    "        \n",
    "# test_pred_err = clf2.oob_decision_function_\n",
    "# test_pred = np.floor(test_pred_err[:,1] *2)\n",
    "# test_pred[test_pred>=2] = 1\n",
    "# print sum(abs(test_pred-train_labl))*100.0/len(train_labl)\n",
    "\n"
   ]
  },
  {
   "cell_type": "code",
   "execution_count": 91,
   "metadata": {
    "collapsed": false
   },
   "outputs": [
    {
     "data": {
      "text/plain": [
       "0.27026752328324516"
      ]
     },
     "execution_count": 91,
     "metadata": {},
     "output_type": "execute_result"
    }
   ],
   "source": []
  },
  {
   "cell_type": "code",
   "execution_count": null,
   "metadata": {
    "collapsed": true
   },
   "outputs": [],
   "source": []
  },
  {
   "cell_type": "code",
   "execution_count": 88,
   "metadata": {
    "collapsed": false
   },
   "outputs": [
    {
     "data": {
      "text/plain": [
       "95.07051385962069"
      ]
     },
     "execution_count": 88,
     "metadata": {},
     "output_type": "execute_result"
    }
   ],
   "source": [
    "cnt*1.0 / len(y_test)*100"
   ]
  },
  {
   "cell_type": "code",
   "execution_count": 242,
   "metadata": {
    "collapsed": false
   },
   "outputs": [
    {
     "ename": "NameError",
     "evalue": "name 'test_pred' is not defined",
     "output_type": "error",
     "traceback": [
      "\u001b[0;31m---------------------------------------------------------------------------\u001b[0m",
      "\u001b[0;31mNameError\u001b[0m                                 Traceback (most recent call last)",
      "\u001b[0;32m<ipython-input-242-a388a00368aa>\u001b[0m in \u001b[0;36m<module>\u001b[0;34m()\u001b[0m\n\u001b[1;32m      1\u001b[0m \u001b[0;31m#%%\u001b[0m\u001b[0;34m\u001b[0m\u001b[0;34m\u001b[0m\u001b[0m\n\u001b[1;32m      2\u001b[0m \u001b[0mtot\u001b[0m \u001b[0;34m=\u001b[0m \u001b[0mtrain_feat\u001b[0m\u001b[0;34m\u001b[0m\u001b[0m\n\u001b[0;32m----> 3\u001b[0;31m \u001b[0mtot\u001b[0m\u001b[0;34m[\u001b[0m\u001b[0;34m'pred'\u001b[0m\u001b[0;34m]\u001b[0m \u001b[0;34m=\u001b[0m \u001b[0mtest_pred\u001b[0m\u001b[0;34m\u001b[0m\u001b[0m\n\u001b[0m\u001b[1;32m      4\u001b[0m \u001b[0mtot\u001b[0m\u001b[0;34m[\u001b[0m\u001b[0;34m'actu'\u001b[0m\u001b[0;34m]\u001b[0m \u001b[0;34m=\u001b[0m \u001b[0mlabl\u001b[0m\u001b[0;34m\u001b[0m\u001b[0m\n\u001b[1;32m      5\u001b[0m \u001b[0;34m\u001b[0m\u001b[0m\n",
      "\u001b[0;31mNameError\u001b[0m: name 'test_pred' is not defined"
     ]
    }
   ],
   "source": [
    "#%%\n",
    "tot = train_feat\n",
    "tot['pred'] = test_pred\n",
    "tot['actu'] = labl\n",
    "\n",
    "#%%\n",
    "bin_edges[-1] += 1\n",
    "rate = np.zeros(hist.shape)\n",
    "payrate = np.zeros(hist.shape)\n",
    "prate = np.zeros(hist.shape)\n",
    "for i in range(len(bin_edges)-1):\n",
    "    left_edge = bin_edges[i]\n",
    "    right_edge = bin_edges[i+1]\n",
    "    incid = df.stat[(df['loan_amnt'] >= left_edge) & (df['loan_amnt'] < right_edge)]\n",
    "    amnt = df.loan_amnt[(df['loan_amnt'] >= left_edge) & (df['loan_amnt'] < right_edge)]\n",
    "    rate[i] = len(incid[incid==1]) *1.0 / (len(incid[incid==1]) + len(incid[incid==-1]) )\n",
    "    payrate[i] = (sum(amnt[incid==1]) + sum(amnt[incid==-1]) )\n",
    "\n",
    "\n"
   ]
  },
  {
   "cell_type": "code",
   "execution_count": 241,
   "metadata": {
    "collapsed": false
   },
   "outputs": [
    {
     "ename": "NameError",
     "evalue": "name 'bin_edges' is not defined",
     "output_type": "error",
     "traceback": [
      "\u001b[0;31m---------------------------------------------------------------------------\u001b[0m",
      "\u001b[0;31mNameError\u001b[0m                                 Traceback (most recent call last)",
      "\u001b[0;32m<ipython-input-241-33de777c1390>\u001b[0m in \u001b[0;36m<module>\u001b[0;34m()\u001b[0m\n\u001b[1;32m      1\u001b[0m \u001b[0;31m#%%\u001b[0m\u001b[0;34m\u001b[0m\u001b[0;34m\u001b[0m\u001b[0m\n\u001b[0;32m----> 2\u001b[0;31m \u001b[0;32mfor\u001b[0m \u001b[0mi\u001b[0m \u001b[0;32min\u001b[0m \u001b[0mrange\u001b[0m\u001b[0;34m(\u001b[0m\u001b[0mlen\u001b[0m\u001b[0;34m(\u001b[0m\u001b[0mbin_edges\u001b[0m\u001b[0;34m)\u001b[0m\u001b[0;34m-\u001b[0m\u001b[0;36m1\u001b[0m\u001b[0;34m)\u001b[0m\u001b[0;34m:\u001b[0m\u001b[0;34m\u001b[0m\u001b[0m\n\u001b[0m\u001b[1;32m      3\u001b[0m     \u001b[0mleft_edge\u001b[0m \u001b[0;34m=\u001b[0m \u001b[0mbin_edges\u001b[0m\u001b[0;34m[\u001b[0m\u001b[0mi\u001b[0m\u001b[0;34m]\u001b[0m\u001b[0;34m\u001b[0m\u001b[0m\n\u001b[1;32m      4\u001b[0m     \u001b[0mright_edge\u001b[0m \u001b[0;34m=\u001b[0m \u001b[0mbin_edges\u001b[0m\u001b[0;34m[\u001b[0m\u001b[0mi\u001b[0m\u001b[0;34m+\u001b[0m\u001b[0;36m1\u001b[0m\u001b[0;34m]\u001b[0m\u001b[0;34m\u001b[0m\u001b[0m\n\u001b[1;32m      5\u001b[0m     \u001b[0mincid\u001b[0m \u001b[0;34m=\u001b[0m \u001b[0mtot\u001b[0m\u001b[0;34m[\u001b[0m\u001b[0;34m(\u001b[0m\u001b[0mtot\u001b[0m\u001b[0;34m[\u001b[0m\u001b[0;34m'loan_amnt'\u001b[0m\u001b[0;34m]\u001b[0m \u001b[0;34m>=\u001b[0m \u001b[0mleft_edge\u001b[0m\u001b[0;34m)\u001b[0m \u001b[0;34m&\u001b[0m \u001b[0;34m(\u001b[0m\u001b[0mdf\u001b[0m\u001b[0;34m[\u001b[0m\u001b[0;34m'loan_amnt'\u001b[0m\u001b[0;34m]\u001b[0m \u001b[0;34m<\u001b[0m \u001b[0mright_edge\u001b[0m\u001b[0;34m)\u001b[0m\u001b[0;34m]\u001b[0m\u001b[0;34m\u001b[0m\u001b[0m\n",
      "\u001b[0;31mNameError\u001b[0m: name 'bin_edges' is not defined"
     ]
    }
   ],
   "source": [
    "#%%\n",
    "for i in range(len(bin_edges)-1):\n",
    "    left_edge = bin_edges[i]\n",
    "    right_edge = bin_edges[i+1]\n",
    "    incid = tot[(tot['loan_amnt'] >= left_edge) & (df['loan_amnt'] < right_edge)]\n",
    "    rate[i] = len(incid[incid.actu == 1])*100.0/len(incid)\n",
    "    prate[i] = len(incid[(incid.actu- incid.pred)==0])*100.0/len(incid)\n",
    "    \n"
   ]
  },
  {
   "cell_type": "markdown",
   "metadata": {},
   "source": [
    "In loans funded in Lending Club, about 15 percent of loans are a failure, and 85 % percent of the loans are successful. \n",
    "For loans of a large amount, the failure rate is particularly high. "
   ]
  },
  {
   "cell_type": "code",
   "execution_count": 240,
   "metadata": {
    "collapsed": false,
    "scrolled": false
   },
   "outputs": [
    {
     "ename": "NameError",
     "evalue": "name 'rate' is not defined",
     "output_type": "error",
     "traceback": [
      "\u001b[0;31m---------------------------------------------------------------------------\u001b[0m",
      "\u001b[0;31mNameError\u001b[0m                                 Traceback (most recent call last)",
      "\u001b[0;32m<ipython-input-240-41889250f7ed>\u001b[0m in \u001b[0;36m<module>\u001b[0;34m()\u001b[0m\n\u001b[1;32m      1\u001b[0m \u001b[0mN\u001b[0m \u001b[0;34m=\u001b[0m \u001b[0;36m10\u001b[0m\u001b[0;34m\u001b[0m\u001b[0m\n\u001b[0;32m----> 2\u001b[0;31m \u001b[0mmenMeans\u001b[0m   \u001b[0;34m=\u001b[0m \u001b[0mrate\u001b[0m\u001b[0;34m\u001b[0m\u001b[0m\n\u001b[0m\u001b[1;32m      3\u001b[0m \u001b[0mwomenMeans\u001b[0m \u001b[0;34m=\u001b[0m \u001b[0;36m100\u001b[0m \u001b[0;34m-\u001b[0m \u001b[0mrate\u001b[0m\u001b[0;34m\u001b[0m\u001b[0m\n\u001b[1;32m      4\u001b[0m \u001b[0;34m\u001b[0m\u001b[0m\n\u001b[1;32m      5\u001b[0m \u001b[0mind\u001b[0m \u001b[0;34m=\u001b[0m \u001b[0mnp\u001b[0m\u001b[0;34m.\u001b[0m\u001b[0marange\u001b[0m\u001b[0;34m(\u001b[0m\u001b[0mN\u001b[0m\u001b[0;34m)\u001b[0m    \u001b[0;31m# the x locations for the groups\u001b[0m\u001b[0;34m\u001b[0m\u001b[0m\n",
      "\u001b[0;31mNameError\u001b[0m: name 'rate' is not defined"
     ]
    }
   ],
   "source": [
    "N = 10\n",
    "menMeans   = rate\n",
    "womenMeans = 100 - rate\n",
    "\n",
    "ind = np.arange(N)    # the x locations for the groups\n",
    "width = 0.35       # the width of the bars: can also be len(x) sequence\n",
    "# plt.subplot(211)\n",
    "plt.figure()\n",
    "p1 = plt.bar(ind, menMeans,   width, color='r',label='Success loans')\n",
    "p2 = plt.bar(ind, womenMeans, width, color='y',label='Failure loans (charged off/Default)',\n",
    "             bottom=menMeans)\n",
    "\n",
    "\n",
    "plt.ylabel('Percentage')\n",
    "# plt.title('successful loans versus failed loans')\n",
    "plt.xticks(np.asarray([0,5,9])+width/2., ('5000','20000','35000') )\n",
    "#plt.yticks(np.arange(0,81,10))\n",
    "plt.legend(bbox_to_anchor=(0., 1.02, 1., .102), loc=3,\n",
    "           ncol=2, mode=\"expand\", borderaxespad=0.)\n",
    "plt.xlabel('Loan Size ($)')\n",
    "plt.show()"
   ]
  },
  {
   "cell_type": "markdown",
   "metadata": {},
   "source": [
    "The goal of my project is to predict whether a loan will be successful or not. \n",
    "To do that I downloaded data from lending club, selected several features to build a prediction model, including both numerical features, such as the annual income, the fico credit score, and also categorical features, such as the grade of the loan assigned by lending club. \n",
    "\n",
    "Using these features, I built a random forest model to predict whether the loan will be successful. \n",
    "The idea is to build a large number of decision trees, each is used to generate a prediction, and the final prediction is the average of these predictions from each tree. \n",
    "The strategy by my random forest model significantly decreases the chance of funding a failure loan, compared to the strategy by lending club, with a improvement of 40 %. "
   ]
  },
  {
   "cell_type": "code",
   "execution_count": 221,
   "metadata": {
    "collapsed": false
   },
   "outputs": [],
   "source": [
    "# for i in range(len(bin_edges)-1):\n",
    "#     left_edge = bin_edges[i]\n",
    "#     right_edge = bin_edges[i+1]\n",
    "#     incid = tot[(tot['loan_amnt'] >= left_edge) & (df['loan_amnt'] < right_edge)]\n",
    "#     rate[i] = len(incid[incid.actu == 1])*100.0/len(incid)\n",
    "#     prate[i] = len(incid[(incid.actu- incid.pred)==0])*100.0/len(incid)\n",
    "\n",
    "# pold = 100-len(tot[tot.actu==1])*100.0/len(tot)\n",
    "# pnew = 100-len(tot[(tot.actu-tot.pred)==0])*100.0/len(tot)\n",
    "# print pold,pnew\n",
    "# plt.figure()\n",
    "# #plt.subplot(211)\n",
    "# p1=plt.plot(bin_edges[:-1],100-rate,'b')\n",
    "# p2=plt.plot(bin_edges[:-1],100-prate,'r')\n",
    "# plt.xlabel('Loan Size ($)')\n",
    "# plt.ylabel('Percent of failured loans')  \n",
    "# plt.legend((p1[0],p2[0]),('Strategy by LendingClub', 'Strategy by my random forest model'))\n",
    "\n",
    "# plt.title('Improved by %.2f %%' % ((pold-pnew)*100.0/pold))\n",
    "# plt.show()"
   ]
  },
  {
   "cell_type": "markdown",
   "metadata": {},
   "source": [
    "Moving forward, I would like to incorporate more features to further improve the model. One feature I am particular interested in the description of the loan provided by the borrower. It contains lots of details about the borrowers. I would also like to build a user interface to provide recommendation about whether or not one should fund a particular loan. "
   ]
  },
  {
   "cell_type": "code",
   "execution_count": null,
   "metadata": {
    "collapsed": false
   },
   "outputs": [],
   "source": [
    "\n"
   ]
  },
  {
   "cell_type": "code",
   "execution_count": 3,
   "metadata": {
    "collapsed": false
   },
   "outputs": [
    {
     "data": {
      "text/plain": [
       "'a,b,c'"
      ]
     },
     "execution_count": 3,
     "metadata": {},
     "output_type": "execute_result"
    }
   ],
   "source": [
    "x = ['a','b','c']\n",
    "','.join(x)"
   ]
  },
  {
   "cell_type": "code",
   "execution_count": null,
   "metadata": {
    "collapsed": true
   },
   "outputs": [],
   "source": []
  }
 ],
 "metadata": {
  "kernelspec": {
   "display_name": "Python 2",
   "language": "python",
   "name": "python2"
  },
  "language_info": {
   "codemirror_mode": {
    "name": "ipython",
    "version": 2
   },
   "file_extension": ".py",
   "mimetype": "text/x-python",
   "name": "python",
   "nbconvert_exporter": "python",
   "pygments_lexer": "ipython2",
   "version": "2.7.10"
  }
 },
 "nbformat": 4,
 "nbformat_minor": 0
}
